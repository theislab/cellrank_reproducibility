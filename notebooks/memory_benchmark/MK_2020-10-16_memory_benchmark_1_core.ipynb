{
 "cells": [
  {
   "cell_type": "markdown",
   "metadata": {},
   "source": [
    "Memory performance comparison (single-core)\n",
    "----\n",
    "\n",
    "In this notebook, we produce Suppl. Tab. 3 displaying the single-core memory performance differences\n",
    "between CellRank and Palantir on 100k cells."
   ]
  },
  {
   "cell_type": "markdown",
   "metadata": {},
   "source": [
    "# Preliminaries"
   ]
  },
  {
   "cell_type": "markdown",
   "metadata": {},
   "source": [
    "## Dependencies"
   ]
  },
  {
   "cell_type": "markdown",
   "metadata": {
    "ExecuteTime": {
     "end_time": "2020-10-16T14:56:16.213937Z",
     "start_time": "2020-10-16T14:56:16.207025Z"
    }
   },
   "source": [
    "1. Please consult the [analysis_files/README.md](analysis_files/README.md) on how to run the memory performance benchmarks."
   ]
  },
  {
   "cell_type": "markdown",
   "metadata": {},
   "source": [
    "## Import packages"
   ]
  },
  {
   "cell_type": "code",
   "execution_count": 1,
   "metadata": {
    "ExecuteTime": {
     "end_time": "2021-11-09T21:11:13.830827Z",
     "start_time": "2021-11-09T21:11:13.602819Z"
    }
   },
   "outputs": [],
   "source": [
    "# import standard packages\n",
    "from pathlib import Path\n",
    "import pickle\n",
    "import os\n",
    "import sys\n",
    "\n",
    "import numpy as np\n",
    "import pandas as pd"
   ]
  },
  {
   "cell_type": "markdown",
   "metadata": {},
   "source": [
    "## Set up paths"
   ]
  },
  {
   "cell_type": "code",
   "execution_count": 2,
   "metadata": {
    "ExecuteTime": {
     "end_time": "2021-11-09T21:11:13.835758Z",
     "start_time": "2021-11-09T21:11:13.832604Z"
    }
   },
   "outputs": [],
   "source": [
    "sys.path.insert(0, \"../..\")  # this depends on the notebook depth and must be adapted per notebook\n",
    "\n",
    "from paths import DATA_DIR, FIG_DIR"
   ]
  },
  {
   "cell_type": "markdown",
   "metadata": {},
   "source": [
    "## Set global parameters"
   ]
  },
  {
   "cell_type": "code",
   "execution_count": 3,
   "metadata": {
    "ExecuteTime": {
     "end_time": "2021-11-09T21:11:13.839984Z",
     "start_time": "2021-11-09T21:11:13.837984Z"
    }
   },
   "outputs": [],
   "source": [
    "root =  DATA_DIR / 'benchmarking' / 'memory_analysis_1_core'\n",
    "\n",
    "palantir_path = root / \"palantir\"\n",
    "cellrank_path = root / \"gpcca\""
   ]
  },
  {
   "cell_type": "markdown",
   "metadata": {},
   "source": [
    "## Load the data"
   ]
  },
  {
   "cell_type": "code",
   "execution_count": 4,
   "metadata": {
    "ExecuteTime": {
     "end_time": "2021-11-09T21:11:14.250379Z",
     "start_time": "2021-11-09T21:11:13.841846Z"
    }
   },
   "outputs": [],
   "source": [
    "res = {'CellRank (fate probs.)': [], 'CellRank (initial/terminal)': [], 'Palantir (fate probs.)': []}\n",
    "\n",
    "for fname in os.listdir(palantir_path):\n",
    "    with open(palantir_path / fname, 'rb') as fin:\n",
    "        data = pickle.load(fin)\n",
    "    res['Palantir (fate probs.)'].append(max(data) / 1024)\n",
    "    \n",
    "for fname in os.listdir(cellrank_path):\n",
    "    if not fname.endswith(\".pickle\"):\n",
    "        continue\n",
    "    with open(cellrank_path / fname, 'rb') as fin:\n",
    "        data = pickle.load(fin)\n",
    "    # add macrostates and kernel memory together\n",
    "    res['CellRank (initial/terminal)'].append(max((max(data['macro_mem']), max(data['kernel_mem']))) / 1024)\n",
    "    res['CellRank (fate probs.)'].append(max(data['ap_mem']) / 1024)"
   ]
  },
  {
   "cell_type": "markdown",
   "metadata": {},
   "source": [
    "### Clean the index"
   ]
  },
  {
   "cell_type": "code",
   "execution_count": 5,
   "metadata": {
    "ExecuteTime": {
     "end_time": "2021-11-09T21:11:14.267918Z",
     "start_time": "2021-11-09T21:11:14.252266Z"
    }
   },
   "outputs": [
    {
     "data": {
      "text/html": [
       "<div>\n",
       "<style scoped>\n",
       "    .dataframe tbody tr th:only-of-type {\n",
       "        vertical-align: middle;\n",
       "    }\n",
       "\n",
       "    .dataframe tbody tr th {\n",
       "        vertical-align: top;\n",
       "    }\n",
       "\n",
       "    .dataframe thead th {\n",
       "        text-align: right;\n",
       "    }\n",
       "</style>\n",
       "<table border=\"1\" class=\"dataframe\">\n",
       "  <thead>\n",
       "    <tr style=\"text-align: right;\">\n",
       "      <th></th>\n",
       "      <th>CellRank (fate probs.)</th>\n",
       "      <th>CellRank (initial/terminal)</th>\n",
       "      <th>Palantir (fate probs.)</th>\n",
       "    </tr>\n",
       "    <tr>\n",
       "      <th>subset</th>\n",
       "      <th></th>\n",
       "      <th></th>\n",
       "      <th></th>\n",
       "    </tr>\n",
       "  </thead>\n",
       "  <tbody>\n",
       "    <tr>\n",
       "      <th>1</th>\n",
       "      <td>14.30</td>\n",
       "      <td>12.82</td>\n",
       "      <td>79.80</td>\n",
       "    </tr>\n",
       "    <tr>\n",
       "      <th>2</th>\n",
       "      <td>14.19</td>\n",
       "      <td>12.79</td>\n",
       "      <td>78.21</td>\n",
       "    </tr>\n",
       "    <tr>\n",
       "      <th>3</th>\n",
       "      <td>14.27</td>\n",
       "      <td>12.81</td>\n",
       "      <td>80.37</td>\n",
       "    </tr>\n",
       "    <tr>\n",
       "      <th>4</th>\n",
       "      <td>14.16</td>\n",
       "      <td>12.81</td>\n",
       "      <td>89.37</td>\n",
       "    </tr>\n",
       "    <tr>\n",
       "      <th>5</th>\n",
       "      <td>14.16</td>\n",
       "      <td>12.80</td>\n",
       "      <td>80.48</td>\n",
       "    </tr>\n",
       "    <tr>\n",
       "      <th>6</th>\n",
       "      <td>14.27</td>\n",
       "      <td>12.83</td>\n",
       "      <td>79.34</td>\n",
       "    </tr>\n",
       "    <tr>\n",
       "      <th>7</th>\n",
       "      <td>14.24</td>\n",
       "      <td>12.78</td>\n",
       "      <td>80.13</td>\n",
       "    </tr>\n",
       "    <tr>\n",
       "      <th>8</th>\n",
       "      <td>14.25</td>\n",
       "      <td>12.77</td>\n",
       "      <td>80.55</td>\n",
       "    </tr>\n",
       "    <tr>\n",
       "      <th>9</th>\n",
       "      <td>14.17</td>\n",
       "      <td>12.78</td>\n",
       "      <td>88.45</td>\n",
       "    </tr>\n",
       "    <tr>\n",
       "      <th>10</th>\n",
       "      <td>14.16</td>\n",
       "      <td>12.82</td>\n",
       "      <td>88.33</td>\n",
       "    </tr>\n",
       "  </tbody>\n",
       "</table>\n",
       "</div>"
      ],
      "text/plain": [
       "        CellRank (fate probs.)  CellRank (initial/terminal)  \\\n",
       "subset                                                        \n",
       "1                        14.30                        12.82   \n",
       "2                        14.19                        12.79   \n",
       "3                        14.27                        12.81   \n",
       "4                        14.16                        12.81   \n",
       "5                        14.16                        12.80   \n",
       "6                        14.27                        12.83   \n",
       "7                        14.24                        12.78   \n",
       "8                        14.25                        12.77   \n",
       "9                        14.17                        12.78   \n",
       "10                       14.16                        12.82   \n",
       "\n",
       "        Palantir (fate probs.)  \n",
       "subset                          \n",
       "1                        79.80  \n",
       "2                        78.21  \n",
       "3                        80.37  \n",
       "4                        89.37  \n",
       "5                        80.48  \n",
       "6                        79.34  \n",
       "7                        80.13  \n",
       "8                        80.55  \n",
       "9                        88.45  \n",
       "10                       88.33  "
      ]
     },
     "execution_count": 5,
     "metadata": {},
     "output_type": "execute_result"
    }
   ],
   "source": [
    "df = pd.DataFrame(res)\n",
    "df.index = np.arange(1, 11)\n",
    "df.index.name = 'subset'\n",
    "df.round(2)"
   ]
  },
  {
   "cell_type": "markdown",
   "metadata": {},
   "source": [
    "# Generate the table"
   ]
  },
  {
   "cell_type": "markdown",
   "metadata": {},
   "source": [
    "## Calculate mean and standard deviation across the splits"
   ]
  },
  {
   "cell_type": "code",
   "execution_count": 6,
   "metadata": {
    "ExecuteTime": {
     "end_time": "2021-11-09T21:11:14.285351Z",
     "start_time": "2021-11-09T21:11:14.269306Z"
    }
   },
   "outputs": [
    {
     "data": {
      "text/html": [
       "<div>\n",
       "<style scoped>\n",
       "    .dataframe tbody tr th:only-of-type {\n",
       "        vertical-align: middle;\n",
       "    }\n",
       "\n",
       "    .dataframe tbody tr th {\n",
       "        vertical-align: top;\n",
       "    }\n",
       "\n",
       "    .dataframe thead th {\n",
       "        text-align: right;\n",
       "    }\n",
       "</style>\n",
       "<table border=\"1\" class=\"dataframe\">\n",
       "  <thead>\n",
       "    <tr style=\"text-align: right;\">\n",
       "      <th></th>\n",
       "      <th>CellRank (fate probs.) mean</th>\n",
       "      <th>CellRank (initial/terminal) mean</th>\n",
       "      <th>Palantir (fate probs.) mean</th>\n",
       "      <th>CellRank (fate probs.) std</th>\n",
       "      <th>CellRank (initial/terminal) std</th>\n",
       "      <th>Palantir (fate probs.) std</th>\n",
       "    </tr>\n",
       "    <tr>\n",
       "      <th>#cells (thousands)</th>\n",
       "      <th></th>\n",
       "      <th></th>\n",
       "      <th></th>\n",
       "      <th></th>\n",
       "      <th></th>\n",
       "      <th></th>\n",
       "    </tr>\n",
       "  </thead>\n",
       "  <tbody>\n",
       "    <tr>\n",
       "      <th>100000</th>\n",
       "      <td>14.22</td>\n",
       "      <td>12.8</td>\n",
       "      <td>82.5</td>\n",
       "      <td>0.05</td>\n",
       "      <td>0.02</td>\n",
       "      <td>4.35</td>\n",
       "    </tr>\n",
       "  </tbody>\n",
       "</table>\n",
       "</div>"
      ],
      "text/plain": [
       "                    CellRank (fate probs.) mean  \\\n",
       "#cells (thousands)                                \n",
       "100000                                    14.22   \n",
       "\n",
       "                    CellRank (initial/terminal) mean  \\\n",
       "#cells (thousands)                                     \n",
       "100000                                          12.8   \n",
       "\n",
       "                    Palantir (fate probs.) mean  CellRank (fate probs.) std  \\\n",
       "#cells (thousands)                                                            \n",
       "100000                                     82.5                        0.05   \n",
       "\n",
       "                    CellRank (initial/terminal) std  \\\n",
       "#cells (thousands)                                    \n",
       "100000                                         0.02   \n",
       "\n",
       "                    Palantir (fate probs.) std  \n",
       "#cells (thousands)                              \n",
       "100000                                    4.35  "
      ]
     },
     "execution_count": 6,
     "metadata": {},
     "output_type": "execute_result"
    }
   ],
   "source": [
    "tall_df = df.melt(value_vars=df.columns, var_name='algorithm', value_name='memory')\n",
    "\n",
    "mean = tall_df.groupby('algorithm').mean().T\n",
    "mean.index.name = 'size'\n",
    "mean.columns = [f\"{c} mean\" for c in mean.columns]\n",
    "\n",
    "std = tall_df.groupby('algorithm').std().T\n",
    "std.index.name = 'size'\n",
    "std.columns = [f\"{c} std\" for c in std.columns]\n",
    "\n",
    "stats = pd.concat([mean, std], axis=1)\n",
    "stats.index = [100_000]\n",
    "stats.index.name = '#cells (thousands)'\n",
    "stats = stats.round(2)\n",
    "stats"
   ]
  },
  {
   "cell_type": "markdown",
   "metadata": {},
   "source": [
    "## Reorder the dataframe"
   ]
  },
  {
   "cell_type": "code",
   "execution_count": 7,
   "metadata": {
    "ExecuteTime": {
     "end_time": "2021-11-09T21:11:14.289005Z",
     "start_time": "2021-11-09T21:11:14.286810Z"
    }
   },
   "outputs": [],
   "source": [
    "order = ['CellRank (initial/terminal)', 'CellRank (fate probs.)', 'Palantir (fate probs.)']"
   ]
  },
  {
   "cell_type": "code",
   "execution_count": 8,
   "metadata": {
    "ExecuteTime": {
     "end_time": "2021-11-09T21:11:14.299289Z",
     "start_time": "2021-11-09T21:11:14.291880Z"
    }
   },
   "outputs": [
    {
     "data": {
      "text/html": [
       "<div>\n",
       "<style scoped>\n",
       "    .dataframe tbody tr th:only-of-type {\n",
       "        vertical-align: middle;\n",
       "    }\n",
       "\n",
       "    .dataframe tbody tr th {\n",
       "        vertical-align: top;\n",
       "    }\n",
       "\n",
       "    .dataframe thead th {\n",
       "        text-align: right;\n",
       "    }\n",
       "</style>\n",
       "<table border=\"1\" class=\"dataframe\">\n",
       "  <thead>\n",
       "    <tr style=\"text-align: right;\">\n",
       "      <th></th>\n",
       "      <th>CellRank (initial/terminal) mean</th>\n",
       "      <th>CellRank (initial/terminal) std</th>\n",
       "      <th>CellRank (fate probs.) mean</th>\n",
       "      <th>CellRank (fate probs.) std</th>\n",
       "      <th>Palantir (fate probs.) mean</th>\n",
       "      <th>Palantir (fate probs.) std</th>\n",
       "    </tr>\n",
       "    <tr>\n",
       "      <th>#cells (thousands)</th>\n",
       "      <th></th>\n",
       "      <th></th>\n",
       "      <th></th>\n",
       "      <th></th>\n",
       "      <th></th>\n",
       "      <th></th>\n",
       "    </tr>\n",
       "  </thead>\n",
       "  <tbody>\n",
       "    <tr>\n",
       "      <th>100000</th>\n",
       "      <td>12.8</td>\n",
       "      <td>0.02</td>\n",
       "      <td>14.22</td>\n",
       "      <td>0.05</td>\n",
       "      <td>82.5</td>\n",
       "      <td>4.35</td>\n",
       "    </tr>\n",
       "  </tbody>\n",
       "</table>\n",
       "</div>"
      ],
      "text/plain": [
       "                    CellRank (initial/terminal) mean  \\\n",
       "#cells (thousands)                                     \n",
       "100000                                          12.8   \n",
       "\n",
       "                    CellRank (initial/terminal) std  \\\n",
       "#cells (thousands)                                    \n",
       "100000                                         0.02   \n",
       "\n",
       "                    CellRank (fate probs.) mean  CellRank (fate probs.) std  \\\n",
       "#cells (thousands)                                                            \n",
       "100000                                    14.22                        0.05   \n",
       "\n",
       "                    Palantir (fate probs.) mean  Palantir (fate probs.) std  \n",
       "#cells (thousands)                                                           \n",
       "100000                                     82.5                        4.35  "
      ]
     },
     "execution_count": 8,
     "metadata": {},
     "output_type": "execute_result"
    }
   ],
   "source": [
    "stats = stats[[f\"{c} {s}\" for c in order for s in ('mean', 'std')]]\n",
    "stats"
   ]
  },
  {
   "cell_type": "markdown",
   "metadata": {},
   "source": [
    "## Save the results"
   ]
  },
  {
   "cell_type": "code",
   "execution_count": 9,
   "metadata": {
    "ExecuteTime": {
     "end_time": "2021-11-09T21:11:14.312149Z",
     "start_time": "2021-11-09T21:11:14.300913Z"
    }
   },
   "outputs": [],
   "source": [
    "stats.to_csv(DATA_DIR / \"benchmarking_results\" / \"suppl_tab_memory_benchmark_1_core\" / \"statistics.csv\")"
   ]
  }
 ],
 "metadata": {
  "kernelspec": {
   "display_name": "Python (cellrank)",
   "language": "python",
   "name": "cellrank"
  },
  "language_info": {
   "codemirror_mode": {
    "name": "ipython",
    "version": 3
   },
   "file_extension": ".py",
   "mimetype": "text/x-python",
   "name": "python",
   "nbconvert_exporter": "python",
   "pygments_lexer": "ipython3",
   "version": "3.8.12"
  },
  "toc": {
   "base_numbering": 1,
   "nav_menu": {},
   "number_sections": true,
   "sideBar": true,
   "skip_h1_title": false,
   "title_cell": "Table of Contents",
   "title_sidebar": "Contents",
   "toc_cell": false,
   "toc_position": {},
   "toc_section_display": true,
   "toc_window_display": false
  },
  "varInspector": {
   "cols": {
    "lenName": 16,
    "lenType": 16,
    "lenVar": 40
   },
   "kernels_config": {
    "python": {
     "delete_cmd_postfix": "",
     "delete_cmd_prefix": "del ",
     "library": "var_list.py",
     "varRefreshCmd": "print(var_dic_list())"
    },
    "r": {
     "delete_cmd_postfix": ") ",
     "delete_cmd_prefix": "rm(",
     "library": "var_list.r",
     "varRefreshCmd": "cat(var_dic_list()) "
    }
   },
   "types_to_exclude": [
    "module",
    "function",
    "builtin_function_or_method",
    "instance",
    "_Feature"
   ],
   "window_display": false
  }
 },
 "nbformat": 4,
 "nbformat_minor": 4
}
