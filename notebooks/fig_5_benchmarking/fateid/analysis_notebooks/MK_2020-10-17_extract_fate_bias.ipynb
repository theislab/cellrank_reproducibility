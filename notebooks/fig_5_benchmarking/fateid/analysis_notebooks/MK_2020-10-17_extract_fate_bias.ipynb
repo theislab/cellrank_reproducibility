{
 "cells": [
  {
   "cell_type": "markdown",
   "metadata": {},
   "source": [
    "Fig. 5: Benchmark FateID\n",
    "----\n",
    "\n",
    "In this notebook, we extract FateID's fate biases and smoothed expression."
   ]
  },
  {
   "cell_type": "markdown",
   "metadata": {
    "hidePrompt": true
   },
   "source": [
    "# Preliminaries"
   ]
  },
  {
   "cell_type": "markdown",
   "metadata": {},
   "source": [
    "## Import packages"
   ]
  },
  {
   "cell_type": "code",
   "execution_count": 1,
   "metadata": {
    "ExecuteTime": {
     "end_time": "2020-10-17T19:34:17.333711Z",
     "start_time": "2020-10-17T19:34:10.514653Z"
    },
    "hidePrompt": true
   },
   "outputs": [],
   "source": [
    "# import standard packages\n",
    "import numpy as np\n",
    "from rpy2.robjects import ListVector\n",
    "\n",
    "import os\n",
    "import sys\n",
    "\n",
    "# import single-cell packages\n",
    "import cellrank as cr\n",
    "import anndata2ri\n",
    "\n",
    "# set verbosity levels\n",
    "cr.settings.verbosity = 2\n",
    "\n",
    "anndata2ri.activate()\n",
    "%load_ext rpy2.ipython"
   ]
  },
  {
   "cell_type": "code",
   "execution_count": 2,
   "metadata": {
    "ExecuteTime": {
     "end_time": "2020-10-17T19:34:34.456657Z",
     "start_time": "2020-10-17T19:34:19.045115Z"
    }
   },
   "outputs": [
    {
     "name": "stderr",
     "output_type": "stream",
     "text": [
      "R[write to console]: \n",
      "Attaching package: ‘FateID’\n",
      "\n",
      "\n",
      "R[write to console]: The following objects are masked from ‘package:RaceID’:\n",
      "\n",
      "    diffexpnb, plotdiffgenesnb\n",
      "\n",
      "\n"
     ]
    }
   ],
   "source": [
    "%%R\n",
    "library(RaceID)\n",
    "library(FateID)\n",
    "library(destiny)"
   ]
  },
  {
   "cell_type": "markdown",
   "metadata": {},
   "source": [
    "## Print package versions for reproducibility"
   ]
  },
  {
   "cell_type": "markdown",
   "metadata": {},
   "source": [
    "If you want to exactly reproduce the results shown here, please make sure that your package versions match what is printed below. "
   ]
  },
  {
   "cell_type": "code",
   "execution_count": 3,
   "metadata": {
    "ExecuteTime": {
     "end_time": "2020-10-17T19:34:36.293338Z",
     "start_time": "2020-10-17T19:34:36.149265Z"
    }
   },
   "outputs": [
    {
     "name": "stdout",
     "output_type": "stream",
     "text": [
      "cellrank==1.5.0+gc8c2b9f6 scanpy==1.8.1 anndata==0.7.6 numpy==1.20.0 numba==0.54.0 scipy==1.7.1 pandas==1.3.2 pygpcca==1.0.2 scikit-learn==0.24.2 statsmodels==0.12.2 python-igraph==0.9.6 scvelo==0.2.4 pygam==0.8.0 matplotlib==3.4.3 seaborn==0.11.2\n"
     ]
    }
   ],
   "source": [
    "cr.logging.print_versions()"
   ]
  },
  {
   "cell_type": "code",
   "execution_count": 4,
   "metadata": {
    "ExecuteTime": {
     "end_time": "2020-10-17T19:34:36.412399Z",
     "start_time": "2020-10-17T19:34:36.394359Z"
    }
   },
   "outputs": [
    {
     "name": "stdout",
     "output_type": "stream",
     "text": [
      "[1] ‘0.2.3’\n",
      "[1] ‘0.2.0’\n"
     ]
    }
   ],
   "source": [
    "%%R\n",
    "print(packageVersion(\"RaceID\"))\n",
    "print(packageVersion(\"FateID\"))"
   ]
  },
  {
   "cell_type": "markdown",
   "metadata": {},
   "source": [
    "## Set up paths"
   ]
  },
  {
   "cell_type": "markdown",
   "metadata": {},
   "source": [
    "Define the paths to load data, cache results and write figure panels."
   ]
  },
  {
   "cell_type": "code",
   "execution_count": 5,
   "metadata": {
    "ExecuteTime": {
     "end_time": "2020-10-17T19:34:37.517792Z",
     "start_time": "2020-10-17T19:34:37.512611Z"
    }
   },
   "outputs": [],
   "source": [
    "sys.path.insert(0, \"../../../../\")  # this depends on the notebook depth and must be adapted per notebook\n",
    "\n",
    "from paths import DATA_DIR, CACHE_DIR, FIG_DIR"
   ]
  },
  {
   "cell_type": "markdown",
   "metadata": {},
   "source": [
    "## Set global parameters"
   ]
  },
  {
   "cell_type": "code",
   "execution_count": 6,
   "metadata": {
    "ExecuteTime": {
     "end_time": "2020-10-17T19:34:37.784372Z",
     "start_time": "2020-10-17T19:34:37.781177Z"
    }
   },
   "outputs": [],
   "source": [
    "root = str(DATA_DIR / \"benchmarking\" / \"fateid\")"
   ]
  },
  {
   "cell_type": "markdown",
   "metadata": {},
   "source": [
    "## Define utility functions"
   ]
  },
  {
   "cell_type": "code",
   "execution_count": 7,
   "metadata": {
    "ExecuteTime": {
     "end_time": "2020-10-17T19:34:38.044687Z",
     "start_time": "2020-10-17T19:34:38.023061Z"
    }
   },
   "outputs": [],
   "source": [
    "%%R\n",
    "# copy of plotexpressionProfile which extracts the LOESSed expression\n",
    "extractData <- function (x, y, g, n, logsc = FALSE, col = NULL, name = NULL, cluster = FALSE, alpha = 0.5, lwd = 1, ylim = NULL){\n",
    "    \n",
    "    if ( logsc ){\n",
    "        if ( min(x) == 0 ) x <- x + .1\n",
    "        x <- x/apply(x,1,sum)\n",
    "        x <- log2(x)\n",
    "    }else{\n",
    "        x <- x/apply(x,1,sum)\n",
    "    }\n",
    "    \n",
    "    cl <- unique(y[n])\n",
    "    set.seed(111111)\n",
    "    if (is.null(col)) col <- sample(rainbow(length(n)))\n",
    "    xlim <- c(1, length(n))\n",
    "    z  <- x[g, n]\n",
    "    zc <- z\n",
    "    u <- 1:length(n)\n",
    "       \n",
    "    for ( i in 1:nrow(z) ){\n",
    "        v <- as.vector(t(z[i,]))\n",
    "        k <- predict(loess(v ~ u, span = alpha))\n",
    "        if ( ! logsc ) k[k < 0] <- 0\n",
    "        zc[i,] <- k\n",
    "    }\n",
    "    \n",
    "    return(zc)\n",
    "}\n",
    "\n",
    "dptTraj <- function(x,y,fb,root_idxs,trthr=NULL,distance=\"euclidean\",sigma=1000,...){\n",
    "  trc <- list()\n",
    "  pts <- list()  \n",
    "  for ( j in colnames(fb$probs) ){\n",
    "    if ( ! is.null(trthr) ){\n",
    "      probs <- fb$probs\n",
    "      n  <- rownames(probs)[probs[,j] > trthr]\n",
    "    }else{\n",
    "      votes <- fb$votes\n",
    "      b <- bias(votes)\n",
    "      n  <- rownames(votes)[b$bias[,j] > 1 & b$pv < .05]\n",
    "    }\n",
    "    dm <- destiny::DiffusionMap(as.matrix(t(x[,n])),distance=distance,sigma=sigma,...)\n",
    "    root_idx <- root_idxs[[j]]\n",
    "    pt <- destiny::DPT(dm, root_idx)\n",
    "    pto <- pt[root_idx, ]\n",
    "    \n",
    "    # b <- pt@branch[, 1]\n",
    "    # tip_idx <- which(b==1 & !is.na(b) & pt@tips[, 1])\n",
    "    # pto <- pt[tip_idx, ]\n",
    "    \n",
    "    od <- order(pto,decreasing=FALSE)\n",
    "    n <- n[od]\n",
    "\n",
    "    # ts <- Transitions(as.matrix(t(x[,n])),distance=distance,sigma=sigma,...)\n",
    "    # pt <- dpt::dpt(ts, branching = FALSE)\n",
    "    # n <- n[order(pt$DPT,decreasing=FALSE)]\n",
    "  \n",
    "    if ( median((1:length(n))[y[n] == sub(\"t\",\"\",j)]) < median((1:length(n))[y[n] != sub(\"t\",\"\",j)]) ) {\n",
    "        n <- rev(n)\n",
    "        od <- rev(od)\n",
    "    }\n",
    "    trc[[j]] <- n\n",
    "    pts[[j]] <- pto[od]\n",
    "  }\n",
    "  return(list(trc=trc,pts=pts))\n",
    "}\n",
    "\n",
    "# reason for copying it here:\n",
    "# Error in bias(votes) : could not find function \"bias\"\n",
    "bias <- function(tvn){\n",
    "  bias <- tvn/apply(tvn,1,function(x) x[order(x,decreasing=TRUE)][2] + 1e-3)\n",
    "  pv <- apply(tvn,1,function(x){ h <- x[order(x,decreasing=TRUE)][1];  l <- x[order(x,decreasing=TRUE)][2]; binom.test( c(h, l), alternative=\"t\" )$p.value})\n",
    "  return(list(bias=bias,pv=pv))\n",
    "}"
   ]
  },
  {
   "cell_type": "markdown",
   "metadata": {},
   "source": [
    "## Load the data"
   ]
  },
  {
   "cell_type": "markdown",
   "metadata": {},
   "source": [
    "Load the AnnData object from the CellRank software package. "
   ]
  },
  {
   "cell_type": "code",
   "execution_count": 8,
   "metadata": {
    "ExecuteTime": {
     "end_time": "2020-10-17T19:34:40.006638Z",
     "start_time": "2020-10-17T19:34:39.172073Z"
    }
   },
   "outputs": [
    {
     "data": {
      "text/plain": [
       "AnnData object with n_obs × n_vars = 2531 × 27998\n",
       "    obs: 'day', 'proliferation', 'G2M_score', 'S_score', 'phase', 'clusters_coarse', 'clusters', 'clusters_fine', 'louvain_Alpha', 'louvain_Beta', 'palantir_pseudotime'\n",
       "    var: 'highly_variable_genes'\n",
       "    uns: 'clusters_colors', 'clusters_fine_colors', 'day_colors', 'louvain_Alpha_colors', 'louvain_Beta_colors', 'pca'\n",
       "    obsm: 'X_pca', 'X_umap'\n",
       "    obsp: 'connectivities', 'distances'"
      ]
     },
     "execution_count": 8,
     "metadata": {},
     "output_type": "execute_result"
    }
   ],
   "source": [
    "adata = cr.datasets.pancreas(DATA_DIR / \"pancreas\" / \"pancreas.h5ad\")\n",
    "del adata.uns[\"neighbors\"]\n",
    "del adata.layers['spliced']\n",
    "del adata.layers['unspliced']\n",
    "adata.X = adata.X.A  # crashed anndata2ri; we don't need it\n",
    "adata"
   ]
  },
  {
   "cell_type": "markdown",
   "metadata": {},
   "source": [
    "# Analysis"
   ]
  },
  {
   "cell_type": "markdown",
   "metadata": {},
   "source": [
    "## Convert AnnData to SCseq"
   ]
  },
  {
   "cell_type": "code",
   "execution_count": 9,
   "metadata": {
    "ExecuteTime": {
     "end_time": "2020-10-17T19:34:56.334681Z",
     "start_time": "2020-10-17T19:34:40.312365Z"
    }
   },
   "outputs": [],
   "source": [
    "%%R -i adata -i root\n",
    "out_dir <- root\n",
    "X <- adata@assays@data[['X']]\n",
    "rownames(X) <- rownames(adata)\n",
    "colnames(X) <- colnames(adata)\n",
    "# The raw expression data matrix with cells as columns and genes as rows in sparse matrix format.\n",
    "sc <- SCseq(X)"
   ]
  },
  {
   "cell_type": "markdown",
   "metadata": {},
   "source": [
    "## Filter, cluster and compute the embedding"
   ]
  },
  {
   "cell_type": "code",
   "execution_count": 10,
   "metadata": {
    "ExecuteTime": {
     "end_time": "2020-10-17T19:37:19.506565Z",
     "start_time": "2020-10-17T19:34:56.494748Z"
    }
   },
   "outputs": [
    {
     "name": "stdout",
     "output_type": "stream",
     "text": [
      "Clustering k = 1,2,..., K.max (= 30): .. \n",
      "k = 1  2  3  4  5  6  7  8  9  10  11  12  13  14  15  16  17  18  19  20  21  22  23  24  25  26  27  28  29  30 \n",
      "done.\n",
      "subset 1 \n",
      "subset 2 \n",
      "subset 3 \n",
      "subset 4 \n",
      "subset 5 \n",
      "subset 6 \n",
      "subset 7 \n",
      "subset 8 \n",
      "subset 9 \n",
      "subset 10 \n",
      "subset 11 \n",
      "subset 12 \n",
      "subset 13 \n",
      "subset 14 \n",
      "subset 15 \n",
      "subset 16 \n",
      "subset 17 \n",
      "subset 18 \n",
      "subset 19 \n",
      "subset 20 \n",
      "subset 21 \n",
      "subset 22 \n",
      "subset 23 \n",
      "subset 24 \n",
      "subset 25 \n",
      "subset 26 \n",
      "subset 27 \n",
      "subset 28 \n",
      "subset 29 \n",
      "subset 30 \n",
      "subset 31 \n",
      "subset 32 \n",
      "subset 33 \n",
      "subset 34 \n",
      "subset 35 \n",
      "subset 36 \n",
      "subset 37 \n",
      "subset 38 \n",
      "subset 39 \n",
      "subset 40 \n",
      "subset 41 \n",
      "subset 42 \n",
      "subset 43 \n",
      "subset 44 \n",
      "subset 45 \n",
      "subset 46 \n",
      "subset 47 \n",
      "subset 48 \n",
      "subset 49 \n",
      "subset 50 \n",
      "find outliers in cluster 1  2  3  4  5  6  7  8  9  10  11 \n",
      "merging outliers 1  2  3  4  5  6  7  8  9  10  11 \n",
      "determine final clustering partition 1  2  3  4  5  6  7  8  9  10  11  12  13  14  15  16  17  18  19  20  21  22 \n"
     ]
    }
   ],
   "source": [
    "%%R\n",
    "sc <- filterdata(sc, mintotal=10)\n",
    "sc <- compdist(sc, metric=\"logpearson\")\n",
    "sc <- clustexp(sc, samp=1000)\n",
    "sc <- findoutliers(sc)\n",
    "sc <- comptsne(sc)"
   ]
  },
  {
   "cell_type": "markdown",
   "metadata": {},
   "source": [
    "## Extract data needed for fateBias"
   ]
  },
  {
   "cell_type": "code",
   "execution_count": 11,
   "metadata": {
    "ExecuteTime": {
     "end_time": "2020-10-17T19:37:20.561411Z",
     "start_time": "2020-10-17T19:37:19.661794Z"
    }
   },
   "outputs": [
    {
     "name": "stdout",
     "output_type": "stream",
     "text": [
      "[1]  526 2531\n",
      "[1] \"Irs4\"\n",
      "[1]  527 2531\n"
     ]
    }
   ],
   "source": [
    "%%R\n",
    "x <- as.matrix(getfdata(sc)[sc@cluster$features,])\n",
    "print(dim(x))\n",
    "genes <- c(\"Pax4\", \"Pdx1\", \"Arx\", \"Peg10\", \"Irs4\" ,\"Ghrl\", \"Hhex\", \"Cd24a\")\n",
    "for (gene in genes) {\n",
    "    if (!gene %in% rownames(x)) {\n",
    "        print(gene)\n",
    "        rnames <- rownames(x)\n",
    "        x <- rbind(x, getfdata(sc)[gene,])\n",
    "        rownames(x) <- c(rnames, gene)\n",
    "    }\n",
    "}\n",
    "for (gene in genes) {\n",
    "    if (!gene %in% rownames(x)) {\n",
    "        print(gene)\n",
    "    }\n",
    "}\n",
    "print(dim(x))\n",
    "\n",
    "markers <- list(Beta=c(\"Ins1\"), Alpha=c(\"Gcg\"), Epsilon=c(\"Ghrl\"), Delta=c(\"Sst\"))\n",
    "\n",
    "# cell type partition based, n - positive integer number. For each component of FMarker the expression\n",
    "# of all genes is aggregated in every cell and the n top-expressing cells are extracted.\n",
    "pa <- getPart(x, markers, n=50)\n",
    "\n",
    "# A vector with a partitioning, i. e. cluster assignment for each cell\n",
    "clustering <- pa$part\n",
    "# A vector with the numbers of target (end point) clusters.\n",
    "# Cluster 1 comprises all cells with no enrichment of marker genes\n",
    "endpoints <- pa$tar\n",
    "z <- sc@distances"
   ]
  },
  {
   "cell_type": "markdown",
   "metadata": {},
   "source": [
    "## Run fateBias"
   ]
  },
  {
   "cell_type": "code",
   "execution_count": 12,
   "metadata": {
    "ExecuteTime": {
     "end_time": "2020-10-17T19:40:26.325229Z",
     "start_time": "2020-10-17T19:37:20.729276Z"
    }
   },
   "outputs": [],
   "source": [
    "%%R\n",
    "# fateBias(x, y, tar, z=NULL, minnr=5, minnrh=10, adapt=TRUE, confidence=0.75, nbfactor=5, use.dist=FALSE, seed=12345, nbtree=NULL)\n",
    "# minr - step size of the algo (test size - number of cells to be classified per end point, recommended 5)\n",
    "# minnrh - cells used for training (can be inf to use all previous cells, recommended: 20)\n",
    "# x - data representation (e.g. could be only HVGs, PCA, ...)\n",
    "\n",
    "# as.matrix(x) necessary if use.dist=FALSE\n",
    "fb  <- fateBias(as.matrix(x), clustering, endpoints, z=z, minnr=5, minnrh=20, seed=123, use.dist=FALSE)"
   ]
  },
  {
   "cell_type": "markdown",
   "metadata": {},
   "source": [
    "### Extract the values"
   ]
  },
  {
   "cell_type": "code",
   "execution_count": 13,
   "metadata": {
    "ExecuteTime": {
     "end_time": "2020-10-17T19:40:26.571097Z",
     "start_time": "2020-10-17T19:40:26.524809Z"
    }
   },
   "outputs": [],
   "source": [
    "%%R -o res\n",
    "trthr = 0.15  # fate bias threshold\n",
    "res = list()\n",
    "for ( j in colnames(fb$probs) ){\n",
    "  probs <- fb$probs\n",
    "  n  <- rownames(probs)[probs[,j] > trthr]\n",
    "  res[[j]] = n\n",
    "}"
   ]
  },
  {
   "cell_type": "markdown",
   "metadata": {},
   "source": [
    "### Identify root cells witin each lineage"
   ]
  },
  {
   "cell_type": "code",
   "execution_count": 14,
   "metadata": {
    "ExecuteTime": {
     "end_time": "2020-10-17T19:40:29.448167Z",
     "start_time": "2020-10-17T19:40:27.250951Z"
    }
   },
   "outputs": [
    {
     "name": "stdout",
     "output_type": "stream",
     "text": [
      "['CATCGGGTCTTCGGTC-1-3', 'ACATACGGTCCCGACA-1-3', 'AAACGGGTCAGCTCTC-1-3', 'TCTGAGATCTGAGTGT-1-3']\n",
      "{'t2': 143, 't3': 69, 't4': 7, 't5': 1701}\n"
     ]
    }
   ],
   "source": [
    "adata_preprocessed = cr.datasets.pancreas_preprocessed(DATA_DIR / \"pancreas\" / \"pancreas_preprocessed.h5ad\")\n",
    "root_names = []\n",
    "root_ixs = []\n",
    "\n",
    "for i in range(2, 6):\n",
    "    indices = list(res.rx2(f\"t{i}\"))\n",
    "    tmp = adata_preprocessed[indices].obs['dpt_pseudotime']\n",
    "    ix = tmp.argmin()\n",
    "    root_names.append(tmp.index[ix])\n",
    "    root_ixs.append(np.where(tmp.index == root_names[-1])[0][0] + 1)\n",
    "    \n",
    "root_ixs = dict(zip([f\"t{i}\" for i in range(2, 6)], root_ixs))\n",
    "print(root_names)\n",
    "print(root_ixs)\n",
    "root_ixs = ListVector(root_ixs)"
   ]
  },
  {
   "cell_type": "markdown",
   "metadata": {},
   "source": [
    "## Run DPT"
   ]
  },
  {
   "cell_type": "code",
   "execution_count": 15,
   "metadata": {},
   "outputs": [],
   "source": [
    "%%R -i root_ixs\n",
    "trc <- dptTraj(x, clustering, fb, root_ixs, trthr=trthr, distance='euclidean')\n",
    "pts <- trc[[\"pts\"]]\n",
    "trc <- trc[[\"trc\"]]\n",
    "names(trc) <- c(\"Beta\", \"Alpha\", \"Epsilon\", \"Delta\")\n",
    "names(pts) <- c(\"Beta\", \"Alpha\", \"Epsilon\", \"Delta\")"
   ]
  },
  {
   "cell_type": "markdown",
   "metadata": {},
   "source": [
    "## Extract and save the data for plotting"
   ]
  },
  {
   "cell_type": "markdown",
   "metadata": {},
   "source": [
    "### Save the fate biases, smoothed expression values and DPT"
   ]
  },
  {
   "cell_type": "code",
   "execution_count": 16,
   "metadata": {
    "ExecuteTime": {
     "end_time": "2020-10-17T19:44:03.942463Z",
     "start_time": "2020-10-17T19:44:02.579516Z"
    }
   },
   "outputs": [],
   "source": [
    "%%R\n",
    "for (lineage in names(trc)) {\n",
    "    n <- trc[[lineage]]\n",
    "    fs <- filterset(x,n=n, minexpr=0)\n",
    "    for (gene in genes) {\n",
    "        stopifnot(gene %in% rownames(fs))\n",
    "    }\n",
    "    # this is the same as plotexpressionProfile, but we return the LOESS'd data\n",
    "    tmp <- extractData(as.matrix(x), clustering, g=genes, n=n, cluster=FALSE, logsc=FALSE)\n",
    "    \n",
    "    write.csv(t(tmp), paste0(out_dir, \"/\", lineage, \".csv\"))\n",
    "    write.csv(pts[[lineage]], paste0(out_dir, \"/\", lineage, \"_pt.csv\"))\n",
    "    write.csv(trc[[lineage]], paste0(out_dir, \"/\", lineage, \"_ixs.csv\"))\n",
    "}\n",
    "\n",
    "write.csv(fb$probs, paste0(out_dir, \"/\", \"probs.csv\"))"
   ]
  },
  {
   "cell_type": "markdown",
   "metadata": {},
   "source": [
    "## Visualize smoothed trends for the Delta lineage"
   ]
  },
  {
   "cell_type": "code",
   "execution_count": 17,
   "metadata": {
    "ExecuteTime": {
     "end_time": "2020-10-17T19:44:06.681082Z",
     "start_time": "2020-10-17T19:44:06.234967Z"
    }
   },
   "outputs": [
    {
     "name": "stdout",
     "output_type": "stream",
     "text": [
      "[1] \"Delta\"\n"
     ]
    },
    {
     "data": {
      "image/png": "[encoded data removed]"
     },
     "metadata": {},
     "output_type": "display_data"
    }
   ],
   "source": [
    "%%R\n",
    "print(lineage)\n",
    "for (gene in genes) {\n",
    "    stopifnot(gene %in% rownames(x))\n",
    "}\n",
    "plotexpressionProfile(x, clustering, n=n, g=genes, cluster=FALSE, logsc=FALSE)"
   ]
  }
 ],
 "metadata": {
  "kernelspec": {
   "display_name": "cellrank",
   "language": "python",
   "name": "cellrank"
  },
  "language_info": {
   "codemirror_mode": {
    "name": "ipython",
    "version": 3
   },
   "file_extension": ".py",
   "mimetype": "text/x-python",
   "name": "python",
   "nbconvert_exporter": "python",
   "pygments_lexer": "ipython3",
   "version": "3.8.10"
  },
  "toc": {
   "base_numbering": 1,
   "nav_menu": {},
   "number_sections": true,
   "sideBar": true,
   "skip_h1_title": false,
   "title_cell": "Table of Contents",
   "title_sidebar": "Contents",
   "toc_cell": false,
   "toc_position": {
    "height": "calc(100% - 180px)",
    "left": "10px",
    "top": "150px",
    "width": "288px"
   },
   "toc_section_display": true,
   "toc_window_display": true
  },
  "varInspector": {
   "cols": {
    "lenName": 16,
    "lenType": 16,
    "lenVar": 40
   },
   "kernels_config": {
    "python": {
     "delete_cmd_postfix": "",
     "delete_cmd_prefix": "del ",
     "library": "var_list.py",
     "varRefreshCmd": "print(var_dic_list())"
    },
    "r": {
     "delete_cmd_postfix": ") ",
     "delete_cmd_prefix": "rm(",
     "library": "var_list.r",
     "varRefreshCmd": "cat(var_dic_list()) "
    }
   },
   "types_to_exclude": [
    "module",
    "function",
    "builtin_function_or_method",
    "instance",
    "_Feature"
   ],
   "window_display": false
  }
 },
 "nbformat": 4,
 "nbformat_minor": 4
}
