{
 "cells": [
  {
   "cell_type": "markdown",
   "id": "skilled-patrol",
   "metadata": {},
   "source": [
    "# Preliminaries"
   ]
  },
  {
   "cell_type": "markdown",
   "id": "japanese-festival",
   "metadata": {},
   "source": [
    "## Import packages"
   ]
  },
  {
   "cell_type": "code",
   "execution_count": 1,
   "id": "palestinian-colors",
   "metadata": {},
   "outputs": [],
   "source": [
    "# import standard packages\n",
    "from collections import defaultdict\n",
    "import numpy as np\n",
    "import pandas as pd \n",
    "\n",
    "import matplotlib.pyplot as plt\n",
    "import seaborn as sns\n",
    "\n",
    "import os\n",
    "import sys\n",
    "\n",
    "# import single-cell packages\n",
    "import cellrank as cr\n",
    "import scanpy as sc\n",
    "import velocyto as vcy\n",
    "import scvelo as scv\n",
    "import loompy\n",
    "import pickle"
   ]
  },
  {
   "cell_type": "markdown",
   "id": "forty-boring",
   "metadata": {},
   "source": [
    "## Print package versions for reproducibility"
   ]
  },
  {
   "cell_type": "code",
   "execution_count": 2,
   "id": "available-arena",
   "metadata": {},
   "outputs": [
    {
     "name": "stdout",
     "output_type": "stream",
     "text": [
      "cellrank==1.5.0+gc8c2b9f6 scanpy==1.8.1 anndata==0.7.6 numpy==1.20.0 numba==0.54.0 scipy==1.7.1 pandas==1.3.2 pygpcca==1.0.2 scikit-learn==0.24.2 statsmodels==0.12.2 python-igraph==0.9.6 scvelo==0.2.4 pygam==0.8.0 matplotlib==3.4.3 seaborn==0.11.2\n"
     ]
    },
    {
     "data": {
      "text/plain": [
       "'0.17.17'"
      ]
     },
     "execution_count": 2,
     "metadata": {},
     "output_type": "execute_result"
    }
   ],
   "source": [
    "cr.logging.print_versions()\n",
    "vcy.__version__"
   ]
  },
  {
   "cell_type": "markdown",
   "id": "potential-construction",
   "metadata": {},
   "source": [
    "## Set up paths"
   ]
  },
  {
   "cell_type": "code",
   "execution_count": 3,
   "id": "elementary-registration",
   "metadata": {},
   "outputs": [],
   "source": [
    "sys.path.insert(0, \"../../../\")  # this depends on the notebook depth and must be adapted per notebook\n",
    "\n",
    "from paths import DATA_DIR, CACHE_DIR, FIG_DIR"
   ]
  },
  {
   "cell_type": "markdown",
   "id": "micro-skiing",
   "metadata": {},
   "source": [
    "## Set global parameters"
   ]
  },
  {
   "cell_type": "markdown",
   "id": "martial-raising",
   "metadata": {},
   "source": [
    "Grid for number of nearest neighbors during imputation/transition probability estimation."
   ]
  },
  {
   "cell_type": "code",
   "execution_count": 4,
   "id": "recreational-export",
   "metadata": {},
   "outputs": [],
   "source": [
    "n_jobs = 8\n",
    "ks = [15, 30, 50, 100, 200]"
   ]
  },
  {
   "cell_type": "markdown",
   "id": "understood-intro",
   "metadata": {},
   "source": [
    "## Define utility functions"
   ]
  },
  {
   "cell_type": "code",
   "execution_count": 5,
   "id": "surface-sector",
   "metadata": {},
   "outputs": [],
   "source": [
    "def load_data(fpath: str):\n",
    "    ds = loompy.connect(fpath)\n",
    "    vlm = object.__new__(vcy.VelocytoLoom)\n",
    "\n",
    "    vlm.loom_filepath = None\n",
    "    vlm.S = ds.layer[\"spliced\"][:, :]\n",
    "    vlm.U = ds.layer[\"unspliced\"][:, :]\n",
    "    vlm.A = None\n",
    "    vlm.ca = dict(ds.col_attrs.items())\n",
    "    vlm.ra = dict(ds.row_attrs.items())\n",
    "    ds.close()\n",
    "    del ds\n",
    "    vlm.initial_cell_size = vlm.S.sum(0)\n",
    "    vlm.initial_Ucell_size = vlm.U.sum(0)\n",
    "    \n",
    "    return vlm\n",
    "\n",
    "def load():\n",
    "    adata = cr.datasets.pancreas(DATA_DIR / \"pancreas\" / \"pancreas.h5ad\")\n",
    "    adata.write_loom(DATA_DIR / \"pancreas\" / \"pancreas.loom\")\n",
    "    \n",
    "    vlm = load_data(DATA_DIR / \"pancreas\" / \"pancreas.loom\")\n",
    "    vlm.ts = adata.obsm['X_umap']\n",
    "    vlm.cluster_labels = adata.obs['clusters']\n",
    "    vlm.colorandum = \"black\"\n",
    "    \n",
    "    return vlm, adata"
   ]
  },
  {
   "cell_type": "markdown",
   "id": "tropical-campaign",
   "metadata": {},
   "source": [
    "# Run the grid search"
   ]
  },
  {
   "cell_type": "code",
   "execution_count": 6,
   "id": "bacterial-mining",
   "metadata": {},
   "outputs": [
    {
     "name": "stderr",
     "output_type": "stream",
     "text": [
      "The loom file will lack these fields:\n",
      "{'X_pca', 'X_umap'}\n",
      "Use write_obsm_varm=True to export multi-dimensional annotations\n"
     ]
    },
    {
     "name": "stdout",
     "output_type": "stream",
     "text": [
      "This selects 21 principal components\n"
     ]
    },
    {
     "name": "stderr",
     "output_type": "stream",
     "text": [
      "WARNING:root:Nans encountered in corrcoef and corrected to 1s. If not identical cells were present it is probably a small isolated cluster converging after imputation.\n",
      "WARNING:root:Nans encountered in corrcoef_random and corrected to 1s. If not identical cells were present it is probably a small isolated cluster converging after imputation.\n",
      "The loom file will lack these fields:\n",
      "{'X_pca', 'X_umap'}\n",
      "Use write_obsm_varm=True to export multi-dimensional annotations\n"
     ]
    },
    {
     "name": "stdout",
     "output_type": "stream",
     "text": [
      "This selects 21 principal components\n"
     ]
    },
    {
     "name": "stderr",
     "output_type": "stream",
     "text": [
      "WARNING:root:Nans encountered in corrcoef and corrected to 1s. If not identical cells were present it is probably a small isolated cluster converging after imputation.\n",
      "WARNING:root:Nans encountered in corrcoef_random and corrected to 1s. If not identical cells were present it is probably a small isolated cluster converging after imputation.\n",
      "The loom file will lack these fields:\n",
      "{'X_pca', 'X_umap'}\n",
      "Use write_obsm_varm=True to export multi-dimensional annotations\n"
     ]
    },
    {
     "name": "stdout",
     "output_type": "stream",
     "text": [
      "This selects 21 principal components\n"
     ]
    },
    {
     "name": "stderr",
     "output_type": "stream",
     "text": [
      "WARNING:root:Nans encountered in corrcoef and corrected to 1s. If not identical cells were present it is probably a small isolated cluster converging after imputation.\n",
      "WARNING:root:Nans encountered in corrcoef_random and corrected to 1s. If not identical cells were present it is probably a small isolated cluster converging after imputation.\n",
      "The loom file will lack these fields:\n",
      "{'X_pca', 'X_umap'}\n",
      "Use write_obsm_varm=True to export multi-dimensional annotations\n"
     ]
    },
    {
     "name": "stdout",
     "output_type": "stream",
     "text": [
      "This selects 21 principal components\n"
     ]
    },
    {
     "name": "stderr",
     "output_type": "stream",
     "text": [
      "WARNING:root:Nans encountered in corrcoef and corrected to 1s. If not identical cells were present it is probably a small isolated cluster converging after imputation.\n",
      "WARNING:root:Nans encountered in corrcoef_random and corrected to 1s. If not identical cells were present it is probably a small isolated cluster converging after imputation.\n",
      "The loom file will lack these fields:\n",
      "{'X_pca', 'X_umap'}\n",
      "Use write_obsm_varm=True to export multi-dimensional annotations\n"
     ]
    },
    {
     "name": "stdout",
     "output_type": "stream",
     "text": [
      "This selects 21 principal components\n"
     ]
    },
    {
     "name": "stderr",
     "output_type": "stream",
     "text": [
      "WARNING:root:Nans encountered in corrcoef and corrected to 1s. If not identical cells were present it is probably a small isolated cluster converging after imputation.\n",
      "WARNING:root:Nans encountered in corrcoef_random and corrected to 1s. If not identical cells were present it is probably a small isolated cluster converging after imputation.\n",
      "The loom file will lack these fields:\n",
      "{'X_pca', 'X_umap'}\n",
      "Use write_obsm_varm=True to export multi-dimensional annotations\n"
     ]
    },
    {
     "name": "stdout",
     "output_type": "stream",
     "text": [
      "This selects 21 principal components\n"
     ]
    },
    {
     "name": "stderr",
     "output_type": "stream",
     "text": [
      "The loom file will lack these fields:\n",
      "{'X_pca', 'X_umap'}\n",
      "Use write_obsm_varm=True to export multi-dimensional annotations\n"
     ]
    },
    {
     "name": "stdout",
     "output_type": "stream",
     "text": [
      "This selects 21 principal components\n"
     ]
    },
    {
     "name": "stderr",
     "output_type": "stream",
     "text": [
      "The loom file will lack these fields:\n",
      "{'X_pca', 'X_umap'}\n",
      "Use write_obsm_varm=True to export multi-dimensional annotations\n"
     ]
    },
    {
     "name": "stdout",
     "output_type": "stream",
     "text": [
      "This selects 21 principal components\n"
     ]
    },
    {
     "name": "stderr",
     "output_type": "stream",
     "text": [
      "The loom file will lack these fields:\n",
      "{'X_pca', 'X_umap'}\n",
      "Use write_obsm_varm=True to export multi-dimensional annotations\n"
     ]
    },
    {
     "name": "stdout",
     "output_type": "stream",
     "text": [
      "This selects 21 principal components\n"
     ]
    },
    {
     "name": "stderr",
     "output_type": "stream",
     "text": [
      "The loom file will lack these fields:\n",
      "{'X_pca', 'X_umap'}\n",
      "Use write_obsm_varm=True to export multi-dimensional annotations\n"
     ]
    },
    {
     "name": "stdout",
     "output_type": "stream",
     "text": [
      "This selects 21 principal components\n"
     ]
    },
    {
     "name": "stderr",
     "output_type": "stream",
     "text": [
      "The loom file will lack these fields:\n",
      "{'X_pca', 'X_umap'}\n",
      "Use write_obsm_varm=True to export multi-dimensional annotations\n"
     ]
    },
    {
     "name": "stdout",
     "output_type": "stream",
     "text": [
      "This selects 21 principal components\n"
     ]
    },
    {
     "name": "stderr",
     "output_type": "stream",
     "text": [
      "The loom file will lack these fields:\n",
      "{'X_pca', 'X_umap'}\n",
      "Use write_obsm_varm=True to export multi-dimensional annotations\n"
     ]
    },
    {
     "name": "stdout",
     "output_type": "stream",
     "text": [
      "This selects 21 principal components\n"
     ]
    },
    {
     "name": "stderr",
     "output_type": "stream",
     "text": [
      "The loom file will lack these fields:\n",
      "{'X_pca', 'X_umap'}\n",
      "Use write_obsm_varm=True to export multi-dimensional annotations\n"
     ]
    },
    {
     "name": "stdout",
     "output_type": "stream",
     "text": [
      "This selects 21 principal components\n"
     ]
    },
    {
     "name": "stderr",
     "output_type": "stream",
     "text": [
      "The loom file will lack these fields:\n",
      "{'X_pca', 'X_umap'}\n",
      "Use write_obsm_varm=True to export multi-dimensional annotations\n"
     ]
    },
    {
     "name": "stdout",
     "output_type": "stream",
     "text": [
      "This selects 21 principal components\n"
     ]
    },
    {
     "name": "stderr",
     "output_type": "stream",
     "text": [
      "The loom file will lack these fields:\n",
      "{'X_pca', 'X_umap'}\n",
      "Use write_obsm_varm=True to export multi-dimensional annotations\n"
     ]
    },
    {
     "name": "stdout",
     "output_type": "stream",
     "text": [
      "This selects 21 principal components\n"
     ]
    },
    {
     "name": "stderr",
     "output_type": "stream",
     "text": [
      "The loom file will lack these fields:\n",
      "{'X_pca', 'X_umap'}\n",
      "Use write_obsm_varm=True to export multi-dimensional annotations\n"
     ]
    },
    {
     "name": "stdout",
     "output_type": "stream",
     "text": [
      "This selects 21 principal components\n"
     ]
    },
    {
     "name": "stderr",
     "output_type": "stream",
     "text": [
      "The loom file will lack these fields:\n",
      "{'X_pca', 'X_umap'}\n",
      "Use write_obsm_varm=True to export multi-dimensional annotations\n"
     ]
    },
    {
     "name": "stdout",
     "output_type": "stream",
     "text": [
      "This selects 21 principal components\n"
     ]
    },
    {
     "name": "stderr",
     "output_type": "stream",
     "text": [
      "The loom file will lack these fields:\n",
      "{'X_pca', 'X_umap'}\n",
      "Use write_obsm_varm=True to export multi-dimensional annotations\n"
     ]
    },
    {
     "name": "stdout",
     "output_type": "stream",
     "text": [
      "This selects 21 principal components\n"
     ]
    },
    {
     "name": "stderr",
     "output_type": "stream",
     "text": [
      "The loom file will lack these fields:\n",
      "{'X_pca', 'X_umap'}\n",
      "Use write_obsm_varm=True to export multi-dimensional annotations\n"
     ]
    },
    {
     "name": "stdout",
     "output_type": "stream",
     "text": [
      "This selects 21 principal components\n"
     ]
    },
    {
     "name": "stderr",
     "output_type": "stream",
     "text": [
      "The loom file will lack these fields:\n",
      "{'X_pca', 'X_umap'}\n",
      "Use write_obsm_varm=True to export multi-dimensional annotations\n"
     ]
    },
    {
     "name": "stdout",
     "output_type": "stream",
     "text": [
      "This selects 21 principal components\n"
     ]
    },
    {
     "name": "stderr",
     "output_type": "stream",
     "text": [
      "The loom file will lack these fields:\n",
      "{'X_pca', 'X_umap'}\n",
      "Use write_obsm_varm=True to export multi-dimensional annotations\n"
     ]
    },
    {
     "name": "stdout",
     "output_type": "stream",
     "text": [
      "This selects 21 principal components\n"
     ]
    },
    {
     "name": "stderr",
     "output_type": "stream",
     "text": [
      "WARNING:root:Nans encountered in corrcoef and corrected to 1s. If not identical cells were present it is probably a small isolated cluster converging after imputation.\n",
      "WARNING:root:Nans encountered in corrcoef_random and corrected to 1s. If not identical cells were present it is probably a small isolated cluster converging after imputation.\n",
      "The loom file will lack these fields:\n",
      "{'X_pca', 'X_umap'}\n",
      "Use write_obsm_varm=True to export multi-dimensional annotations\n"
     ]
    },
    {
     "name": "stdout",
     "output_type": "stream",
     "text": [
      "This selects 21 principal components\n"
     ]
    },
    {
     "name": "stderr",
     "output_type": "stream",
     "text": [
      "WARNING:root:Nans encountered in corrcoef and corrected to 1s. If not identical cells were present it is probably a small isolated cluster converging after imputation.\n",
      "WARNING:root:Nans encountered in corrcoef_random and corrected to 1s. If not identical cells were present it is probably a small isolated cluster converging after imputation.\n",
      "The loom file will lack these fields:\n",
      "{'X_pca', 'X_umap'}\n",
      "Use write_obsm_varm=True to export multi-dimensional annotations\n"
     ]
    },
    {
     "name": "stdout",
     "output_type": "stream",
     "text": [
      "This selects 21 principal components\n"
     ]
    },
    {
     "name": "stderr",
     "output_type": "stream",
     "text": [
      "WARNING:root:Nans encountered in corrcoef and corrected to 1s. If not identical cells were present it is probably a small isolated cluster converging after imputation.\n",
      "WARNING:root:Nans encountered in corrcoef_random and corrected to 1s. If not identical cells were present it is probably a small isolated cluster converging after imputation.\n",
      "The loom file will lack these fields:\n",
      "{'X_pca', 'X_umap'}\n",
      "Use write_obsm_varm=True to export multi-dimensional annotations\n"
     ]
    },
    {
     "name": "stdout",
     "output_type": "stream",
     "text": [
      "This selects 21 principal components\n"
     ]
    },
    {
     "name": "stderr",
     "output_type": "stream",
     "text": [
      "WARNING:root:Nans encountered in corrcoef and corrected to 1s. If not identical cells were present it is probably a small isolated cluster converging after imputation.\n",
      "WARNING:root:Nans encountered in corrcoef_random and corrected to 1s. If not identical cells were present it is probably a small isolated cluster converging after imputation.\n",
      "The loom file will lack these fields:\n",
      "{'X_pca', 'X_umap'}\n",
      "Use write_obsm_varm=True to export multi-dimensional annotations\n"
     ]
    },
    {
     "name": "stdout",
     "output_type": "stream",
     "text": [
      "This selects 21 principal components\n"
     ]
    },
    {
     "name": "stderr",
     "output_type": "stream",
     "text": [
      "WARNING:root:Nans encountered in corrcoef and corrected to 1s. If not identical cells were present it is probably a small isolated cluster converging after imputation.\n",
      "WARNING:root:Nans encountered in corrcoef_random and corrected to 1s. If not identical cells were present it is probably a small isolated cluster converging after imputation.\n"
     ]
    },
    {
     "data": {
      "image/png": "[encoded data removed]",
      "text/plain": [
       "<Figure size 432x288 with 1 Axes>"
      ]
     },
     "metadata": {
      "needs_background": "light"
     },
     "output_type": "display_data"
    }
   ],
   "source": [
    "lns = defaultdict(dict)\n",
    "\n",
    "for k_imp in ks:\n",
    "    for k_t in ks:\n",
    "        vlm, adata = load()\n",
    "        \n",
    "        vlm.score_detection_levels(min_expr_counts=15, min_expr_counts_U=10, min_cells_express=0)\n",
    "        vlm.filter_genes(by_detection_levels=True)\n",
    "        vlm.score_cv_vs_mean(3000)\n",
    "        vlm.filter_genes(by_cv_vs_mean=True)\n",
    "\n",
    "        vlm.normalize(size=True, log=True)\n",
    "        \n",
    "        vlm.perform_PCA(n_components=50)\n",
    "\n",
    "        # use elbow heuristic to select the number of PCs\n",
    "        n_comps = np.where(np.diff(np.diff(np.cumsum(vlm.pca.explained_variance_ratio_))>0.002))[0][0]\n",
    "        print(f\"This selects {n_comps} principal components\")\n",
    "\n",
    "        plt.plot(np.cumsum(vlm.pca.explained_variance_ratio_))\n",
    "        plt.axvline(n_comps, c=\"k\")\n",
    "        \n",
    "        vlm.knn_imputation(n_pca_dims=n_comps ,k=k_imp, balanced=False, n_jobs=n_jobs,\n",
    "                           b_sight=np.minimum(k_imp * 8, vlm.S.shape[1] - 1),  # matters only for balanced\n",
    "                           b_maxl=np.minimum(k_imp * 4, vlm.S.shape[1] - 1))  # matters only for balanced\n",
    "        \n",
    "        vlm.fit_gammas()\n",
    "        vlm.predict_U()\n",
    "        vlm.calculate_velocity()\n",
    "        vlm.calculate_shift()\n",
    "        vlm.extrapolate_cell_at_t()\n",
    "        \n",
    "        vlm.estimate_transition_prob(hidim=\"Sx_sz\", embed=\"ts\", transform=\"sqrt\", psc=1, n_jobs=n_jobs,\n",
    "                                     n_neighbors=k_t, knn_random=True, sampled_fraction=0.5)\n",
    "        vlm.calculate_embedding_shift()\n",
    "        vlm.calculate_grid_arrows(steps=(40, 40), n_neighbors=k_t)\n",
    "        \n",
    "        # Sample uniformly the points to avoid density driven effects - Should reimplement as a method\n",
    "        if True:\n",
    "            steps = 100, 100\n",
    "            grs = []\n",
    "            for dim_i in range(vlm.embedding.shape[1]):\n",
    "                m, M = np.min(vlm.embedding[:, dim_i]), np.max(vlm.embedding[:, dim_i])\n",
    "                m = m - 0.025 * np.abs(M - m)\n",
    "                M = M + 0.025 * np.abs(M - m)\n",
    "                gr = np.linspace(m, M, steps[dim_i])\n",
    "                grs.append(gr)\n",
    "\n",
    "            meshes_tuple = np.meshgrid(*grs)\n",
    "            gridpoints_coordinates = np.vstack([i.flat for i in meshes_tuple]).T\n",
    "\n",
    "            from sklearn.neighbors import NearestNeighbors\n",
    "            nn = NearestNeighbors()\n",
    "            nn.fit(vlm.embedding)\n",
    "            dist, ixs = nn.kneighbors(gridpoints_coordinates, 1)\n",
    "\n",
    "            diag_step_dist = np.sqrt((meshes_tuple[0][0,0] - meshes_tuple[0][0,1])**2 + (meshes_tuple[1][0,0] - meshes_tuple[1][1,0])**2)\n",
    "            min_dist = diag_step_dist / 2\n",
    "            ixs = ixs[dist < min_dist]\n",
    "            gridpoints_coordinates = gridpoints_coordinates[dist.flat[:]<min_dist,:]\n",
    "            dist = dist[dist < min_dist]\n",
    "\n",
    "            ixs = np.unique(ixs)\n",
    "\n",
    "            #vcy.scatter_viz(vlm.embedding[ixs, 0], vlm.embedding[ixs, 1],\n",
    "            #                c=vlm.colorandum, alpha=1, s=30, lw=0.4,\n",
    "            #                edgecolor=\"0.4\")\n",
    "            sigma_D = diag_step_dist\n",
    "            sigma_W = diag_step_dist / 2.\n",
    "        else:\n",
    "            sigma_D = 0.5\n",
    "            sigma_W = 0.25\n",
    "            ixs = np.arange(vlm.S.shape[1])\n",
    "            \n",
    "        starting_p = np.ones(len(ixs))\n",
    "        \n",
    "        vlm.prepare_markov(sigma_D=sigma_D, sigma_W=sigma_W, direction='forward', cells_ixs=ixs)\n",
    "        vlm.run_markov(starting_p=starting_p, n_steps=2500)\n",
    "        \n",
    "        diffused_s = vlm.diffused - np.percentile(vlm.diffused, 3)\n",
    "        diffused_s /= np.percentile(diffused_s, 97)\n",
    "        diffused_s = np.clip(diffused_s, 0, 1)\n",
    "        \n",
    "        vlm.prepare_markov(sigma_D=sigma_D, sigma_W=sigma_W, direction='backwards', cells_ixs=ixs)\n",
    "        vlm.run_markov(starting_p=starting_p, n_steps=2500)\n",
    "        \n",
    "        diffused_e = vlm.diffused - np.percentile(vlm.diffused, 3)\n",
    "        diffused_e /= np.percentile(diffused_e, 97)\n",
    "        diffused_e = np.clip(diffused_e, 0, 1)\n",
    "        \n",
    "        ln = cr.tl.Lineage(np.c_[diffused_s, diffused_e], names=['end', 'start'])\n",
    "        lns[k_imp][k_t] = (ln, ixs)"
   ]
  },
  {
   "cell_type": "markdown",
   "id": "micro-efficiency",
   "metadata": {},
   "source": [
    "## Save the results"
   ]
  },
  {
   "cell_type": "code",
   "execution_count": 8,
   "id": "charming-eight",
   "metadata": {},
   "outputs": [],
   "source": [
    "with open(DATA_DIR / \"benchmarking_results\" / \"velocyto\" / \"lineages_grid.pickle\", \"wb\") as fout:\n",
    "    pickle.dump(lns, fout)"
   ]
  }
 ],
 "metadata": {
  "kernelspec": {
   "display_name": "cellrank",
   "language": "python",
   "name": "cellrank"
  },
  "language_info": {
   "codemirror_mode": {
    "name": "ipython",
    "version": 3
   },
   "file_extension": ".py",
   "mimetype": "text/x-python",
   "name": "python",
   "nbconvert_exporter": "python",
   "pygments_lexer": "ipython3",
   "version": "3.8.10"
  }
 },
 "nbformat": 4,
 "nbformat_minor": 5
}
