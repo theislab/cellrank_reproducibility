{
 "cells": [
  {
   "cell_type": "markdown",
   "metadata": {},
   "source": [
    "Fig. 5: Benchmark STEMNET\n",
    "---\n",
    "\n",
    "In this notebook, we extract STEMNET's fate probabilities."
   ]
  },
  {
   "cell_type": "markdown",
   "metadata": {},
   "source": [
    "# Preliminaries"
   ]
  },
  {
   "cell_type": "markdown",
   "metadata": {},
   "source": [
    "## Import packages"
   ]
  },
  {
   "cell_type": "code",
   "execution_count": 1,
   "metadata": {
    "ExecuteTime": {
     "end_time": "2020-10-17T18:55:49.982536Z",
     "start_time": "2020-10-17T18:55:47.466327Z"
    }
   },
   "outputs": [],
   "source": [
    "# import standard packages\n",
    "import os\n",
    "import sys\n",
    "\n",
    "import pandas as pd\n",
    "\n",
    "# import single-cell packages\n",
    "import cellrank as cr\n",
    "import scanpy as sc\n",
    "import scvelo as scv\n",
    "import anndata2ri\n",
    "\n",
    "anndata2ri.activate()\n",
    "%load_ext rpy2.ipython"
   ]
  },
  {
   "cell_type": "code",
   "execution_count": 2,
   "metadata": {
    "ExecuteTime": {
     "end_time": "2020-10-17T18:55:50.045333Z",
     "start_time": "2020-10-17T18:55:49.984630Z"
    }
   },
   "outputs": [],
   "source": [
    "%%R\n",
    "library(STEMNET)"
   ]
  },
  {
   "cell_type": "markdown",
   "metadata": {},
   "source": [
    "## Print package versions for reproducibility"
   ]
  },
  {
   "cell_type": "code",
   "execution_count": 3,
   "metadata": {
    "ExecuteTime": {
     "end_time": "2020-10-17T18:55:50.370347Z",
     "start_time": "2020-10-17T18:55:50.047420Z"
    }
   },
   "outputs": [
    {
     "name": "stdout",
     "output_type": "stream",
     "text": [
      "cellrank==1.5.0+gc8c2b9f6 scanpy==1.8.1 anndata==0.7.6 numpy==1.20.0 numba==0.54.0 scipy==1.7.1 pandas==1.3.2 pygpcca==1.0.2 scikit-learn==0.24.2 statsmodels==0.12.2 python-igraph==0.9.6 scvelo==0.2.4 pygam==0.8.0 matplotlib==3.4.3 seaborn==0.11.2\n"
     ]
    }
   ],
   "source": [
    "cr.logging.print_versions()"
   ]
  },
  {
   "cell_type": "code",
   "execution_count": 4,
   "metadata": {
    "ExecuteTime": {
     "end_time": "2020-10-17T18:55:50.386987Z",
     "start_time": "2020-10-17T18:55:50.372445Z"
    }
   },
   "outputs": [
    {
     "name": "stdout",
     "output_type": "stream",
     "text": [
      "[1] ‘0.1’\n"
     ]
    }
   ],
   "source": [
    "%%R\n",
    "packageVersion(\"STEMNET\")"
   ]
  },
  {
   "cell_type": "markdown",
   "metadata": {},
   "source": [
    "## Set up paths"
   ]
  },
  {
   "cell_type": "code",
   "execution_count": 5,
   "metadata": {
    "ExecuteTime": {
     "end_time": "2020-10-17T18:55:50.454662Z",
     "start_time": "2020-10-17T18:55:50.388593Z"
    }
   },
   "outputs": [],
   "source": [
    "sys.path.insert(0, \"../../../../\")  # this depends on the notebook depth and must be adapted per notebook\n",
    "\n",
    "from paths import DATA_DIR"
   ]
  },
  {
   "cell_type": "markdown",
   "metadata": {},
   "source": [
    "## Load the data"
   ]
  },
  {
   "cell_type": "code",
   "execution_count": 6,
   "metadata": {
    "ExecuteTime": {
     "end_time": "2020-10-17T18:55:51.201336Z",
     "start_time": "2020-10-17T18:55:50.456949Z"
    }
   },
   "outputs": [
    {
     "data": {
      "text/plain": [
       "AnnData object with n_obs × n_vars = 2531 × 27998\n",
       "    obs: 'day', 'proliferation', 'G2M_score', 'S_score', 'phase', 'clusters_coarse', 'clusters', 'clusters_fine', 'louvain_Alpha', 'louvain_Beta', 'palantir_pseudotime'\n",
       "    var: 'highly_variable_genes'\n",
       "    uns: 'clusters_colors', 'clusters_fine_colors', 'day_colors', 'louvain_Alpha_colors', 'louvain_Beta_colors', 'neighbors', 'pca'\n",
       "    obsm: 'X_pca', 'X_umap'\n",
       "    layers: 'spliced', 'unspliced'\n",
       "    obsp: 'connectivities', 'distances'"
      ]
     },
     "execution_count": 6,
     "metadata": {},
     "output_type": "execute_result"
    }
   ],
   "source": [
    "adata = cr.datasets.pancreas(DATA_DIR / \"pancreas\" / \"pancreas.h5ad\")\n",
    "adata.X = adata.X.A  # crashed anndata2ri; we don't need it\n",
    "adata"
   ]
  },
  {
   "cell_type": "markdown",
   "metadata": {
    "ExecuteTime": {
     "end_time": "2020-06-24T12:04:55.423918Z",
     "start_time": "2020-06-24T12:04:55.415668Z"
    }
   },
   "source": [
    "### Preprocess the data"
   ]
  },
  {
   "cell_type": "code",
   "execution_count": 7,
   "metadata": {
    "ExecuteTime": {
     "end_time": "2020-10-17T18:55:52.427645Z",
     "start_time": "2020-10-17T18:55:51.203536Z"
    }
   },
   "outputs": [
    {
     "name": "stdout",
     "output_type": "stream",
     "text": [
      "Filtered out 20788 genes that are detected 10 counts (shared).\n",
      "Normalized count data: X, spliced, unspliced.\n",
      "Extracted 3000 highly variable genes.\n",
      "Logarithmized X.\n"
     ]
    }
   ],
   "source": [
    "scv.pp.filter_and_normalize(adata, min_shared_counts=10, n_top_genes=3000)"
   ]
  },
  {
   "cell_type": "markdown",
   "metadata": {},
   "source": [
    "### Extract cluster information for STEMNET"
   ]
  },
  {
   "cell_type": "code",
   "execution_count": 8,
   "metadata": {
    "ExecuteTime": {
     "end_time": "2020-10-17T18:55:52.435759Z",
     "start_time": "2020-10-17T18:55:52.430275Z"
    }
   },
   "outputs": [],
   "source": [
    "clusters = ['Alpha', 'Beta', 'Epsilon', 'Delta']\n",
    "cluster_pop = pd.DataFrame(dict(zip(clusters, [adata.obs['clusters_fine'].isin([c]) for c in clusters])))"
   ]
  },
  {
   "cell_type": "markdown",
   "metadata": {},
   "source": [
    "# Analysis"
   ]
  },
  {
   "cell_type": "markdown",
   "metadata": {},
   "source": [
    "## Convert the data"
   ]
  },
  {
   "cell_type": "code",
   "execution_count": 9,
   "metadata": {},
   "outputs": [],
   "source": [
    "del adata.uns[\"neighbors\"]\n",
    "del adata.layers['spliced']\n",
    "del adata.layers['unspliced']"
   ]
  },
  {
   "cell_type": "code",
   "execution_count": 10,
   "metadata": {
    "ExecuteTime": {
     "end_time": "2020-10-17T18:56:05.070511Z",
     "start_time": "2020-10-17T18:55:52.437630Z"
    }
   },
   "outputs": [],
   "source": [
    "%%R -i cluster_pop -i adata\n",
    "pop <- booleanTable2Character(cluster_pop, other_value=NA)\n",
    "expression <- t(as.matrix(adata@assays@data[['X']]))  # cells x gene"
   ]
  },
  {
   "cell_type": "markdown",
   "metadata": {},
   "source": [
    "## Run STEMNET"
   ]
  },
  {
   "cell_type": "code",
   "execution_count": 11,
   "metadata": {
    "ExecuteTime": {
     "end_time": "2020-10-17T18:56:37.506259Z",
     "start_time": "2020-10-17T18:56:05.073017Z"
    }
   },
   "outputs": [
    {
     "name": "stderr",
     "output_type": "stream",
     "text": [
      "R[write to console]: At an optimal value of lambda, the misclassification rate for mature populations is 2.32%.\n",
      "\n"
     ]
    }
   ],
   "source": [
    "%%R\n",
    "result <- runSTEMNET(expression, pop)"
   ]
  },
  {
   "cell_type": "markdown",
   "metadata": {},
   "source": [
    "## Print the results"
   ]
  },
  {
   "cell_type": "code",
   "execution_count": 12,
   "metadata": {
    "ExecuteTime": {
     "end_time": "2020-10-17T18:56:37.580090Z",
     "start_time": "2020-10-17T18:56:37.508221Z"
    }
   },
   "outputs": [
    {
     "name": "stdout",
     "output_type": "stream",
     "text": [
      "Object of class stemnet with 1755 stem cells and 776 mature cells assigned to one of 4 target populations of the following sizes:\n",
      "\n",
      "  Alpha    Beta   Delta Epsilon \n",
      "    259     308      70     139 \n",
      "At an optimal value of lambda, the misclassification rate for mature populations is  2.32 %.\n",
      "Posterior probability matrix (truncated):\n",
      "          Alpha       Beta      Delta    Epsilon\n",
      "[1,] 0.30317917 0.32638692 0.17695631 0.19347760\n",
      "[2,] 0.44779088 0.22694945 0.08699444 0.23826523\n",
      "[3,] 0.17926642 0.37152850 0.06225988 0.38694519\n",
      "[4,] 0.89597540 0.02697837 0.01959861 0.05744762\n",
      "[5,] 0.04244407 0.13833241 0.78069503 0.03852849\n",
      "[6,] 0.10695675 0.79952606 0.04265684 0.05086034\n"
     ]
    }
   ],
   "source": [
    "%%R\n",
    "print(result)"
   ]
  },
  {
   "cell_type": "markdown",
   "metadata": {},
   "source": [
    "## Extract the probabilities"
   ]
  },
  {
   "cell_type": "code",
   "execution_count": 13,
   "metadata": {
    "ExecuteTime": {
     "end_time": "2020-10-17T18:56:37.609561Z",
     "start_time": "2020-10-17T18:56:37.581529Z"
    }
   },
   "outputs": [],
   "source": [
    "%%R -o probs\n",
    "probs <- result@posteriors"
   ]
  },
  {
   "cell_type": "markdown",
   "metadata": {},
   "source": [
    "Create a CellRank Lineage object."
   ]
  },
  {
   "cell_type": "code",
   "execution_count": 14,
   "metadata": {
    "ExecuteTime": {
     "end_time": "2020-10-17T18:56:37.700439Z",
     "start_time": "2020-10-17T18:56:37.611224Z"
    }
   },
   "outputs": [],
   "source": [
    "slin = cr.tl.Lineage(probs, names=clusters)\n",
    "adata.obsm['stemnet_terminal_states'] = slin"
   ]
  },
  {
   "cell_type": "markdown",
   "metadata": {},
   "source": [
    "## Save the results"
   ]
  },
  {
   "cell_type": "code",
   "execution_count": 15,
   "metadata": {
    "ExecuteTime": {
     "end_time": "2020-10-17T18:56:38.719876Z",
     "start_time": "2020-10-17T18:56:37.703290Z"
    }
   },
   "outputs": [],
   "source": [
    "sc.write(DATA_DIR / \"benchmarking\" / \"stemnet\" / \"adata.h5ad\", adata)"
   ]
  }
 ],
 "metadata": {
  "kernelspec": {
   "display_name": "cellrank",
   "language": "python",
   "name": "cellrank"
  },
  "language_info": {
   "codemirror_mode": {
    "name": "ipython",
    "version": 3
   },
   "file_extension": ".py",
   "mimetype": "text/x-python",
   "name": "python",
   "nbconvert_exporter": "python",
   "pygments_lexer": "ipython3",
   "version": "3.8.10"
  },
  "toc": {
   "base_numbering": 1,
   "nav_menu": {},
   "number_sections": true,
   "sideBar": true,
   "skip_h1_title": false,
   "title_cell": "Table of Contents",
   "title_sidebar": "Contents",
   "toc_cell": false,
   "toc_position": {},
   "toc_section_display": true,
   "toc_window_display": false
  },
  "varInspector": {
   "cols": {
    "lenName": 16,
    "lenType": 16,
    "lenVar": 40
   },
   "kernels_config": {
    "python": {
     "delete_cmd_postfix": "",
     "delete_cmd_prefix": "del ",
     "library": "var_list.py",
     "varRefreshCmd": "print(var_dic_list())"
    },
    "r": {
     "delete_cmd_postfix": ") ",
     "delete_cmd_prefix": "rm(",
     "library": "var_list.r",
     "varRefreshCmd": "cat(var_dic_list()) "
    }
   },
   "types_to_exclude": [
    "module",
    "function",
    "builtin_function_or_method",
    "instance",
    "_Feature"
   ],
   "window_display": false
  }
 },
 "nbformat": 4,
 "nbformat_minor": 4
}
