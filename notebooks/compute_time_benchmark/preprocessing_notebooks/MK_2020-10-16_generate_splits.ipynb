{
 "cells": [
  {
   "cell_type": "markdown",
   "metadata": {},
   "source": [
    "# Preliminaries"
   ]
  },
  {
   "cell_type": "markdown",
   "metadata": {},
   "source": [
    "## Import packages"
   ]
  },
  {
   "cell_type": "code",
   "execution_count": 1,
   "metadata": {
    "ExecuteTime": {
     "end_time": "2020-10-17T15:25:14.520502Z",
     "start_time": "2020-10-17T15:25:13.249566Z"
    }
   },
   "outputs": [],
   "source": [
    "# import standard packages\n",
    "from pathlib import Path\n",
    "from scipy.io import mmwrite\n",
    "import numpy as np\n",
    "import pandas as pd \n",
    "\n",
    "import sys\n",
    "\n",
    "# import single-cell packages\n",
    "import scanpy as sc\n",
    "import scvelo as scv\n",
    "\n",
    "# set verbosity levels\n",
    "sc.settings.verbosity = 2\n",
    "scv.settings.verbosity = 3 "
   ]
  },
  {
   "cell_type": "markdown",
   "metadata": {},
   "source": [
    "## Set up paths"
   ]
  },
  {
   "cell_type": "code",
   "execution_count": 3,
   "metadata": {
    "ExecuteTime": {
     "end_time": "2020-10-17T15:25:45.220637Z",
     "start_time": "2020-10-17T15:25:45.215090Z"
    }
   },
   "outputs": [],
   "source": [
    "sys.path.insert(0, \"../../..\")  # this depends on the notebook depth and must be adapted per notebook\n",
    "\n",
    "from paths import DATA_DIR"
   ]
  },
  {
   "cell_type": "markdown",
   "metadata": {},
   "source": [
    "## Load the data"
   ]
  },
  {
   "cell_type": "code",
   "execution_count": 9,
   "metadata": {
    "ExecuteTime": {
     "end_time": "2020-10-17T15:27:27.884499Z",
     "start_time": "2020-10-17T15:27:03.490885Z"
    }
   },
   "outputs": [
    {
     "data": {
      "text/plain": [
       "AnnData object with n_obs × n_vars = 104679 × 22630\n",
       "    obs: 'batch'\n",
       "    layers: 'spliced', 'unspliced'"
      ]
     },
     "execution_count": 9,
     "metadata": {},
     "output_type": "execute_result"
    }
   ],
   "source": [
    "# it has the same #cells as adata_preprocessed.h5ad - 104678\n",
    "adata = sc.read(DATA_DIR / \"morris_data\" / \"adata.h5ad\")\n",
    "adata"
   ]
  },
  {
   "cell_type": "markdown",
   "metadata": {},
   "source": [
    "## Write annotations and the sparse raw data for FateID"
   ]
  },
  {
   "cell_type": "code",
   "execution_count": 10,
   "metadata": {
    "ExecuteTime": {
     "end_time": "2020-10-17T15:35:21.759262Z",
     "start_time": "2020-10-17T15:27:31.089651Z"
    }
   },
   "outputs": [],
   "source": [
    "mmwrite(DATA_DIR / \"morris_data\" / \"raw.mtx\", adata.X.T)  # write genes x cells\n",
    "pd.DataFrame(adata.obs_names).to_csv(DATA_DIR / \"morris_data\" / \"annotations\" / \"obs_names.csv\")\n",
    "pd.DataFrame(adata.var_names).to_csv(DATA_DIR / \"morris_data\" / \"annotations\" / \"genes.csv\")"
   ]
  },
  {
   "cell_type": "markdown",
   "metadata": {},
   "source": [
    "## Create random dataset subsets"
   ]
  },
  {
   "cell_type": "markdown",
   "metadata": {},
   "source": [
    "### Set seed and the number of splits"
   ]
  },
  {
   "cell_type": "markdown",
   "metadata": {
    "ExecuteTime": {
     "end_time": "2020-10-16T11:36:00.654919Z",
     "start_time": "2020-10-16T11:36:00.646850Z"
    }
   },
   "source": [
    "Subset the dataset to 10k, 20k, ... 100k cells and for each subset, create 10 different splits."
   ]
  },
  {
   "cell_type": "code",
   "execution_count": 11,
   "metadata": {
    "ExecuteTime": {
     "end_time": "2020-10-17T15:35:21.796318Z",
     "start_time": "2020-10-17T15:35:21.794076Z"
    }
   },
   "outputs": [],
   "source": [
    "np.random.seed(42)\n",
    "n_splits = 10"
   ]
  },
  {
   "cell_type": "markdown",
   "metadata": {},
   "source": [
    "### Write the splits"
   ]
  },
  {
   "cell_type": "code",
   "execution_count": 12,
   "metadata": {
    "ExecuteTime": {
     "end_time": "2020-10-17T15:35:52.028850Z",
     "start_time": "2020-10-17T15:35:21.822073Z"
    }
   },
   "outputs": [],
   "source": [
    "for size in [i * 10_000 for i in range(1, 11)]:\n",
    "    pd.DataFrame([np.random.choice(np.arange(adata.n_obs), size=size, replace=False)\n",
    "                  for _ in range(n_splits)]).T.to_csv(DATA_DIR / \"morris_data\" / \"splits\" / f'size_{size}.csv')"
   ]
  }
 ],
 "metadata": {
  "kernelspec": {
   "display_name": "cellrank",
   "language": "python",
   "name": "cellrank"
  },
  "language_info": {
   "codemirror_mode": {
    "name": "ipython",
    "version": 3
   },
   "file_extension": ".py",
   "mimetype": "text/x-python",
   "name": "python",
   "nbconvert_exporter": "python",
   "pygments_lexer": "ipython3",
   "version": "3.8.10"
  },
  "toc": {
   "base_numbering": 1,
   "nav_menu": {},
   "number_sections": true,
   "sideBar": true,
   "skip_h1_title": false,
   "title_cell": "Table of Contents",
   "title_sidebar": "Contents",
   "toc_cell": false,
   "toc_position": {},
   "toc_section_display": true,
   "toc_window_display": false
  },
  "varInspector": {
   "cols": {
    "lenName": 16,
    "lenType": 16,
    "lenVar": 40
   },
   "kernels_config": {
    "python": {
     "delete_cmd_postfix": "",
     "delete_cmd_prefix": "del ",
     "library": "var_list.py",
     "varRefreshCmd": "print(var_dic_list())"
    },
    "r": {
     "delete_cmd_postfix": ") ",
     "delete_cmd_prefix": "rm(",
     "library": "var_list.r",
     "varRefreshCmd": "cat(var_dic_list()) "
    }
   },
   "types_to_exclude": [
    "module",
    "function",
    "builtin_function_or_method",
    "instance",
    "_Feature"
   ],
   "window_display": false
  }
 },
 "nbformat": 4,
 "nbformat_minor": 4
}
