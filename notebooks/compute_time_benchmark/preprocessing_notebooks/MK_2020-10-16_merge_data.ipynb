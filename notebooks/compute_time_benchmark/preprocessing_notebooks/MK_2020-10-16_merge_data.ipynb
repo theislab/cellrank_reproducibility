{
 "cells": [
  {
   "cell_type": "markdown",
   "metadata": {},
   "source": [
    "This notebook shows how the data for runtime and memory performance has been generated.\n",
    "The final merge `anndata.AnnData` object can be downloaded from here:\n",
    "[https://ndownloader.figshare.com/files/25120694?private_link=a187bbb4aa21f7223523](https://ndownloader.figshare.com/files/25120694?private_link=a187bbb4aa21f7223523)."
   ]
  },
  {
   "cell_type": "markdown",
   "metadata": {},
   "source": [
    "# Preliminaries"
   ]
  },
  {
   "cell_type": "markdown",
   "metadata": {},
   "source": [
    "## Import packages"
   ]
  },
  {
   "cell_type": "code",
   "execution_count": 1,
   "metadata": {
    "ExecuteTime": {
     "end_time": "2020-10-17T15:04:45.851646Z",
     "start_time": "2020-10-17T15:04:44.745336Z"
    }
   },
   "outputs": [],
   "source": [
    "# import standard packages\n",
    "from pathlib import Path\n",
    "\n",
    "import os\n",
    "import sys\n",
    "\n",
    "# import single-cell packages\n",
    "import scanpy as sc\n",
    "import scvelo as scv\n",
    "\n",
    "# set verbosity levels\n",
    "sc.settings.verbosity = 2\n",
    "scv.settings.verbosity = 3 "
   ]
  },
  {
   "cell_type": "markdown",
   "metadata": {},
   "source": [
    "## Print package versions for reproducibility"
   ]
  },
  {
   "cell_type": "code",
   "execution_count": 2,
   "metadata": {
    "ExecuteTime": {
     "end_time": "2020-10-17T15:04:49.797750Z",
     "start_time": "2020-10-17T15:04:47.258920Z"
    }
   },
   "outputs": [
    {
     "name": "stdout",
     "output_type": "stream",
     "text": [
      "scvelo==0.2.2  scanpy==1.6.0  anndata==0.7.4  loompy==3.0.6  numpy==1.19.2  scipy==1.5.2  matplotlib==3.3.2  sklearn==0.23.2  pandas==1.1.3  \n",
      "WARNING: There is a newer scvelo version available on PyPI:\n",
      " Your version: \t\t 0.2.2 \n",
      "Latest version: \t modeling\n"
     ]
    }
   ],
   "source": [
    "scv.logging.print_versions()"
   ]
  },
  {
   "cell_type": "markdown",
   "metadata": {},
   "source": [
    "## Set up paths"
   ]
  },
  {
   "cell_type": "code",
   "execution_count": 3,
   "metadata": {
    "ExecuteTime": {
     "end_time": "2020-10-17T15:04:49.820906Z",
     "start_time": "2020-10-17T15:04:49.807304Z"
    }
   },
   "outputs": [],
   "source": [
    "sys.path.insert(0, \"../../..\")  # this depends on the notebook depth and must be adapted per notebook\n",
    "\n",
    "from paths import DATA_DIR"
   ]
  },
  {
   "cell_type": "markdown",
   "metadata": {},
   "source": [
    "### Define path for the Morris dataset"
   ]
  },
  {
   "cell_type": "markdown",
   "metadata": {},
   "source": [
    "This dataset comes from [Biddy, B.A., Kong, W., Kamimoto, K. et al. Single-cell mapping of lineage and identity in direct reprogramming. Nature 564, 219–224 (2018)](https://doi.org/10.1038/s41586-018-0744-4)."
   ]
  },
  {
   "cell_type": "code",
   "execution_count": 8,
   "metadata": {
    "ExecuteTime": {
     "end_time": "2020-10-17T15:08:06.321901Z",
     "start_time": "2020-10-17T15:08:06.316970Z"
    }
   },
   "outputs": [],
   "source": [
    "root = DATA_DIR / \"morris_data_raw_loom_files\""
   ]
  },
  {
   "cell_type": "markdown",
   "metadata": {},
   "source": [
    "## Load the data"
   ]
  },
  {
   "cell_type": "code",
   "execution_count": 9,
   "metadata": {
    "ExecuteTime": {
     "end_time": "2020-10-17T15:12:23.224962Z",
     "start_time": "2020-10-17T15:08:06.800323Z"
    }
   },
   "outputs": [
    {
     "name": "stderr",
     "output_type": "stream",
     "text": [
      "Variable names are not unique. To make them unique, call `.var_names_make_unique`.\n",
      "Variable names are not unique. To make them unique, call `.var_names_make_unique`.\n",
      "Variable names are not unique. To make them unique, call `.var_names_make_unique`.\n",
      "Variable names are not unique. To make them unique, call `.var_names_make_unique`.\n",
      "Variable names are not unique. To make them unique, call `.var_names_make_unique`.\n",
      "Variable names are not unique. To make them unique, call `.var_names_make_unique`.\n",
      "Variable names are not unique. To make them unique, call `.var_names_make_unique`.\n",
      "Variable names are not unique. To make them unique, call `.var_names_make_unique`.\n",
      "Variable names are not unique. To make them unique, call `.var_names_make_unique`.\n",
      "Variable names are not unique. To make them unique, call `.var_names_make_unique`.\n",
      "Variable names are not unique. To make them unique, call `.var_names_make_unique`.\n",
      "Variable names are not unique. To make them unique, call `.var_names_make_unique`.\n",
      "Variable names are not unique. To make them unique, call `.var_names_make_unique`.\n",
      "Variable names are not unique. To make them unique, call `.var_names_make_unique`.\n",
      "Variable names are not unique. To make them unique, call `.var_names_make_unique`.\n",
      "Variable names are not unique. To make them unique, call `.var_names_make_unique`.\n"
     ]
    }
   ],
   "source": [
    "adatas = []\n",
    "for dirname in os.listdir(root):\n",
    "    if dirname.startswith(\"hf\"):\n",
    "        fname = [f for f in os.listdir(root / dirname) if f.endswith(\".loom\")][0]\n",
    "        adatas.append(scv.read_loom(root / dirname / fname))\n",
    "        adatas[-1].var_names_make_unique()  # for merging\n",
    "        adatas[-1].obs_names_make_unique()"
   ]
  },
  {
   "cell_type": "markdown",
   "metadata": {},
   "source": [
    "## Concatenate the objects"
   ]
  },
  {
   "cell_type": "markdown",
   "metadata": {},
   "source": [
    "The dataset is saved in multiple parts si we have to merge the objects."
   ]
  },
  {
   "cell_type": "code",
   "execution_count": 10,
   "metadata": {
    "ExecuteTime": {
     "end_time": "2020-10-17T15:13:03.307407Z",
     "start_time": "2020-10-17T15:12:52.799678Z"
    }
   },
   "outputs": [
    {
     "data": {
      "text/plain": [
       "AnnData object with n_obs × n_vars = 104679 × 22630\n",
       "    obs: 'batch'\n",
       "    var: 'Accession', 'Chromosome', 'End', 'Start', 'Strand'\n",
       "    layers: 'matrix', 'ambiguous', 'spliced', 'unspliced'"
      ]
     },
     "execution_count": 10,
     "metadata": {},
     "output_type": "execute_result"
    }
   ],
   "source": [
    "adata = adatas[0].concatenate(adatas[1:])\n",
    "\n",
    "adata.var_names_make_unique()\n",
    "adata.obs_names_make_unique()\n",
    "\n",
    "adata"
   ]
  },
  {
   "cell_type": "markdown",
   "metadata": {},
   "source": [
    "Remove layers that are not needed."
   ]
  },
  {
   "cell_type": "code",
   "execution_count": 11,
   "metadata": {
    "ExecuteTime": {
     "end_time": "2020-10-17T15:13:35.696648Z",
     "start_time": "2020-10-17T15:13:35.422102Z"
    }
   },
   "outputs": [],
   "source": [
    "del adata.var, adata.layers['matrix'], adata.layers['ambiguous']"
   ]
  },
  {
   "cell_type": "markdown",
   "metadata": {},
   "source": [
    "## Write the data"
   ]
  },
  {
   "cell_type": "code",
   "execution_count": 13,
   "metadata": {
    "ExecuteTime": {
     "end_time": "2020-10-17T15:15:51.321157Z",
     "start_time": "2020-10-17T15:13:54.644798Z"
    }
   },
   "outputs": [],
   "source": [
    "sc.write(DATA_DIR / \"morris_data\" / \"adata.h5ad\", adata)"
   ]
  }
 ],
 "metadata": {
  "kernelspec": {
   "display_name": "cellrank",
   "language": "python",
   "name": "cellrank"
  },
  "language_info": {
   "codemirror_mode": {
    "name": "ipython",
    "version": 3
   },
   "file_extension": ".py",
   "mimetype": "text/x-python",
   "name": "python",
   "nbconvert_exporter": "python",
   "pygments_lexer": "ipython3",
   "version": "3.8.10"
  },
  "toc": {
   "base_numbering": 1,
   "nav_menu": {},
   "number_sections": true,
   "sideBar": true,
   "skip_h1_title": false,
   "title_cell": "Table of Contents",
   "title_sidebar": "Contents",
   "toc_cell": false,
   "toc_position": {},
   "toc_section_display": true,
   "toc_window_display": false
  },
  "varInspector": {
   "cols": {
    "lenName": 16,
    "lenType": 16,
    "lenVar": 40
   },
   "kernels_config": {
    "python": {
     "delete_cmd_postfix": "",
     "delete_cmd_prefix": "del ",
     "library": "var_list.py",
     "varRefreshCmd": "print(var_dic_list())"
    },
    "r": {
     "delete_cmd_postfix": ") ",
     "delete_cmd_prefix": "rm(",
     "library": "var_list.r",
     "varRefreshCmd": "cat(var_dic_list()) "
    }
   },
   "types_to_exclude": [
    "module",
    "function",
    "builtin_function_or_method",
    "instance",
    "_Feature"
   ],
   "window_display": false
  }
 },
 "nbformat": 4,
 "nbformat_minor": 4
}
