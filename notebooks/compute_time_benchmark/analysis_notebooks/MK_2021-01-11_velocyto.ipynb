{
 "cells": [
  {
   "cell_type": "markdown",
   "metadata": {
    "ExecuteTime": {
     "end_time": "2020-10-16T12:49:24.158172Z",
     "start_time": "2020-10-16T12:49:24.152514Z"
    }
   },
   "source": [
    "Benchmark Velocyto runtime\n",
    "---"
   ]
  },
  {
   "cell_type": "markdown",
   "metadata": {},
   "source": [
    "In this notebook, we benchmark the runtime of Velocytos's functions:\n",
    "\n",
    "- estimate_transition_prob\n",
    "- calculate_embedding_shift\n",
    "- prepare_markov\n",
    "- run_markov"
   ]
  },
  {
   "cell_type": "markdown",
   "metadata": {},
   "source": [
    "# Preliminaries"
   ]
  },
  {
   "cell_type": "markdown",
   "metadata": {},
   "source": [
    "## Dependency notebooks"
   ]
  },
  {
   "cell_type": "markdown",
   "metadata": {},
   "source": [
    "1. [../preprocessing_notebooks/MK_2020-10-16_preprocess_data.ipynb](../preprocessing_notebooks/MK_2020-10-16_preprocess_data.ipynb)"
   ]
  },
  {
   "cell_type": "markdown",
   "metadata": {},
   "source": [
    "## Import packages"
   ]
  },
  {
   "cell_type": "code",
   "execution_count": 1,
   "metadata": {
    "ExecuteTime": {
     "end_time": "2020-10-17T15:56:20.198809Z",
     "start_time": "2020-10-17T15:56:17.199962Z"
    }
   },
   "outputs": [
    {
     "name": "stdout",
     "output_type": "stream",
     "text": [
      "No dynamo version found\n"
     ]
    }
   ],
   "source": [
    "# import standard packages\n",
    "from pathlib import Path\n",
    "from collections import defaultdict\n",
    "from math import ceil\n",
    "import sys\n",
    "import pickle\n",
    "import gc\n",
    "\n",
    "import pandas as pd\n",
    "import numpy as np\n",
    "\n",
    "# import single-cell packages\n",
    "import scanpy as sc\n",
    "import velocyto as vcy\n",
    "from anndata import AnnData\n",
    "\n",
    "# import utilities\n",
    "import utils.utilities as ul"
   ]
  },
  {
   "cell_type": "markdown",
   "metadata": {},
   "source": [
    "## Print package versions for reproducibility"
   ]
  },
  {
   "cell_type": "code",
   "execution_count": 2,
   "metadata": {
    "ExecuteTime": {
     "end_time": "2020-10-17T15:56:30.462535Z",
     "start_time": "2020-10-17T15:56:20.215481Z"
    }
   },
   "outputs": [
    {
     "name": "stdout",
     "output_type": "stream",
     "text": [
      "scanpy==1.5.1 anndata==0.7.5 umap==0.5.0 numpy==1.19.4 scipy==1.5.3 pandas==1.1.4 scikit-learn==0.23.2 statsmodels==0.12.1\n"
     ]
    },
    {
     "data": {
      "text/plain": [
       "'0.17.17'"
      ]
     },
     "execution_count": 2,
     "metadata": {},
     "output_type": "execute_result"
    }
   ],
   "source": [
    "sc.logging.print_versions()\n",
    "vcy.__version__"
   ]
  },
  {
   "cell_type": "markdown",
   "metadata": {},
   "source": [
    "## Set up paths"
   ]
  },
  {
   "cell_type": "code",
   "execution_count": 3,
   "metadata": {
    "ExecuteTime": {
     "end_time": "2020-10-17T15:56:30.483162Z",
     "start_time": "2020-10-17T15:56:30.479538Z"
    }
   },
   "outputs": [],
   "source": [
    "sys.path.insert(0, \"../../..\")  # this depends on the notebook depth and must be adapted per notebook\n",
    "\n",
    "from paths import DATA_DIR"
   ]
  },
  {
   "cell_type": "markdown",
   "metadata": {},
   "source": [
    "## Load the data"
   ]
  },
  {
   "cell_type": "markdown",
   "metadata": {},
   "source": [
    "Load the preprocessed data containing velocities."
   ]
  },
  {
   "cell_type": "code",
   "execution_count": 4,
   "metadata": {
    "ExecuteTime": {
     "end_time": "2020-10-17T15:56:55.009863Z",
     "start_time": "2020-10-17T15:56:30.497424Z"
    }
   },
   "outputs": [
    {
     "data": {
      "text/plain": [
       "AnnData object with n_obs × n_vars = 104679 × 1500\n",
       "    obs: 'batch', 'initial_size_spliced', 'initial_size_unspliced', 'initial_size', 'n_counts', 'velocity_self_transition'\n",
       "    var: 'Accession', 'Chromosome', 'End', 'Start', 'Strand', 'gene_count_corr', 'means', 'dispersions', 'dispersions_norm', 'highly_variable', 'fit_r2', 'fit_alpha', 'fit_beta', 'fit_gamma', 'fit_t_', 'fit_scaling', 'fit_std_u', 'fit_std_s', 'fit_likelihood', 'fit_u0', 'fit_s0', 'fit_pval_steady', 'fit_steady_u', 'fit_steady_s', 'fit_variance', 'fit_alignment_scaling', 'velocity_genes'\n",
       "    uns: 'neighbors', 'pca', 'recover_dynamics', 'velocity_graph', 'velocity_graph_neg', 'velocity_params'\n",
       "    obsm: 'X_pca'\n",
       "    varm: 'PCs', 'loss'\n",
       "    layers: 'Ms', 'Mu', 'fit_t', 'fit_tau', 'fit_tau_', 'matrix', 'spliced', 'velocity', 'velocity_u'\n",
       "    obsp: 'connectivities', 'distances'"
      ]
     },
     "execution_count": 4,
     "metadata": {},
     "output_type": "execute_result"
    }
   ],
   "source": [
    "adata = sc.read(DATA_DIR / \"morris_data\" / \"adata_preprocessed.h5ad\")\n",
    "del adata.layers['unspliced']\n",
    "del adata.layers['ambiguous']\n",
    "adata"
   ]
  },
  {
   "cell_type": "markdown",
   "metadata": {},
   "source": [
    "### Load the subsets and splits"
   ]
  },
  {
   "cell_type": "code",
   "execution_count": 5,
   "metadata": {
    "ExecuteTime": {
     "end_time": "2020-10-17T15:56:55.775251Z",
     "start_time": "2020-10-17T15:56:55.268577Z"
    }
   },
   "outputs": [
    {
     "data": {
      "text/plain": [
       "[10000, 20000, 30000, 40000, 50000, 60000, 70000, 80000, 90000, 100000]"
      ]
     },
     "execution_count": 5,
     "metadata": {},
     "output_type": "execute_result"
    }
   ],
   "source": [
    "dfs = ul.get_split(DATA_DIR / \"morris_data\" / \"splits\")\n",
    "list(dfs.keys())"
   ]
  },
  {
   "cell_type": "markdown",
   "metadata": {},
   "source": [
    "## Define utility functions"
   ]
  },
  {
   "cell_type": "code",
   "execution_count": 6,
   "metadata": {},
   "outputs": [],
   "source": [
    "def initialize(adata: AnnData) -> vcy.VelocytoLoom:\n",
    "    print(\"Initializing Velocyto object\")\n",
    "\n",
    "    vlm = object.__new__(vcy.VelocytoLoom)\n",
    "    vlm.ts = adata.obsm[\"X_pca\"][:, :2]\n",
    "    vlm.Sx_sz = adata.layers[\"Ms\"].astype(np.float64).T  # needs to be float\n",
    "    vlm.used_delta_t = 1.0\n",
    "    vlm.delta_S = adata.layers[\"velocity\"].T\n",
    "    vlm.S = adata.layers[\"spliced\"].T  # used to get n_neighs\n",
    "    vlm.delta_S = np.ascontiguousarray(vlm.delta_S)\n",
    "\n",
    "    return vlm\n",
    "\n",
    "\n",
    "def run(vlm: vcy.VelocytoLoom, *, n_jobs: int = 32) -> dict:\n",
    "    estimate_transition_prob = ul.timeit(vlm.estimate_transition_prob)\n",
    "    calculate_embedding_shift = ul.timeit(vlm.calculate_embedding_shift)\n",
    "    prepare_markov = ul.timeit(vlm.prepare_markov)\n",
    "    run_markov = ul.timeit(vlm.run_markov)\n",
    "\n",
    "    print(\"Calculating transition probabilities\")\n",
    "    _, etp_time = estimate_transition_prob(  # only works on 2D embedding\n",
    "        hidim=\"Sx_sz\", embed=\"ts\", transform=\"sqrt\", psc=1,\n",
    "        n_neighbors=None, knn_random=True, n_jobs=n_jobs,\n",
    "    )\n",
    "    print(\"Embedding shape:\", vlm.embedding.shape)\n",
    "    print(\"Calculating embedding shift\")\n",
    "    _, ces_time = calculate_embedding_shift()\n",
    "\n",
    "    print(\"Preparing Markov\")\n",
    "    _, pm_time = prepare_markov(sigma_D=1, sigma_W=0.5)\n",
    "    print(\"Running Markov using\")\n",
    "    _, rm_time = run_markov()\n",
    "\n",
    "    res  = {\n",
    "        \"estimate_transition_probability\": etp_time,\n",
    "        \"calculate_embedding_shift\": ces_time,\n",
    "        \"prepare_markov\": pm_time,\n",
    "        \"run_markov\": rm_time,\n",
    "    }\n",
    "    print(\"Result:\", res)\n",
    "    \n",
    "    return res"
   ]
  },
  {
   "cell_type": "code",
   "execution_count": 7,
   "metadata": {
    "ExecuteTime": {
     "end_time": "2020-10-17T15:56:56.454394Z",
     "start_time": "2020-10-17T15:56:56.448840Z"
    }
   },
   "outputs": [],
   "source": [
    "def benchmark_velocyto(adata: AnnData) -> dict:\n",
    "    res = defaultdict(lambda: defaultdict(lambda: defaultdict(list)))\n",
    "    for size, split in dfs.items():\n",
    "        for col in split.columns:\n",
    "            try:\n",
    "                print(f\"Subsetting data to `{size}`, split `{col}`.\")\n",
    "                ixs = split[col].values\n",
    "                bdata = adata[ixs].copy()\n",
    "                \n",
    "                assert bdata.n_obs == size, (bdata.n_obs, size)\n",
    "                \n",
    "                res[size][col] = run(initialize(bdata), n_jobs=32)\n",
    "                \n",
    "                ul.save_results(res, DATA_DIR / \"benchmarking\" / \"runtime_analysis\" / \"velocyto.pickle\")\n",
    "                \n",
    "                del bdata\n",
    "                gc.collect()\n",
    "            except Exception as e:\n",
    "                print(f\"Unable to run `Velocyto` with size `{size}` on split `{col}`. Reason: `{e}`.\")\n",
    "                continue\n",
    "                \n",
    "    return res"
   ]
  },
  {
   "cell_type": "markdown",
   "metadata": {},
   "source": [
    "# Run the benchmarks"
   ]
  },
  {
   "cell_type": "code",
   "execution_count": null,
   "metadata": {
    "ExecuteTime": {
     "start_time": "2020-10-17T15:56:23.950Z"
    }
   },
   "outputs": [
    {
     "name": "stdout",
     "output_type": "stream",
     "text": [
      "Subsetting data to `10000`, split `0`.\n",
      "Initializing Velocyto object\n",
      "Calculating transition probabilities\n"
     ]
    },
    {
     "name": "stderr",
     "output_type": "stream",
     "text": [
      "WARNING:root:Nans encountered in corrcoef and corrected to 1s. If not identical cells were present it is probably a small isolated cluster converging after imputation.\n",
      "WARNING:root:Nans encountered in corrcoef_random and corrected to 1s. If not identical cells were present it is probably a small isolated cluster converging after imputation.\n"
     ]
    },
    {
     "name": "stdout",
     "output_type": "stream",
     "text": [
      "Embedding shape: (10000, 2)\n",
      "Calculating embedding shift\n",
      "Preparing Markov\n",
      "Running Markov using\n"
     ]
    }
   ],
   "source": [
    "res_velo = benchmark_velocyto(adata)"
   ]
  },
  {
   "cell_type": "markdown",
   "metadata": {},
   "source": [
    "## Save the results"
   ]
  },
  {
   "cell_type": "code",
   "execution_count": null,
   "metadata": {
    "ExecuteTime": {
     "start_time": "2020-07-18T05:48:54.135Z"
    }
   },
   "outputs": [],
   "source": [
    "ul.save_results(res_velo, DATA_DIR / \"benchmarking\" / \"runtime_analysis\" / \"velocyto.pickle\")"
   ]
  }
 ],
 "metadata": {
  "kernelspec": {
   "display_name": "cellrank",
   "language": "python",
   "name": "cellrank"
  },
  "language_info": {
   "codemirror_mode": {
    "name": "ipython",
    "version": 3
   },
   "file_extension": ".py",
   "mimetype": "text/x-python",
   "name": "python",
   "nbconvert_exporter": "python",
   "pygments_lexer": "ipython3",
   "version": "3.8.12"
  },
  "toc": {
   "base_numbering": 1,
   "nav_menu": {},
   "number_sections": true,
   "sideBar": true,
   "skip_h1_title": false,
   "title_cell": "Table of Contents",
   "title_sidebar": "Contents",
   "toc_cell": false,
   "toc_position": {},
   "toc_section_display": true,
   "toc_window_display": false
  },
  "varInspector": {
   "cols": {
    "lenName": 16,
    "lenType": 16,
    "lenVar": 40
   },
   "kernels_config": {
    "python": {
     "delete_cmd_postfix": "",
     "delete_cmd_prefix": "del ",
     "library": "var_list.py",
     "varRefreshCmd": "print(var_dic_list())"
    },
    "r": {
     "delete_cmd_postfix": ") ",
     "delete_cmd_prefix": "rm(",
     "library": "var_list.r",
     "varRefreshCmd": "cat(var_dic_list()) "
    }
   },
   "types_to_exclude": [
    "module",
    "function",
    "builtin_function_or_method",
    "instance",
    "_Feature"
   ],
   "window_display": false
  }
 },
 "nbformat": 4,
 "nbformat_minor": 4
}
