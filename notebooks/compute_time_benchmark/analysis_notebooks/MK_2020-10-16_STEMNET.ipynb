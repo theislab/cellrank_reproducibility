{
 "cells": [
  {
   "cell_type": "markdown",
   "metadata": {},
   "source": [
    "Benchmark STEMNET runtime\n",
    "--"
   ]
  },
  {
   "cell_type": "markdown",
   "metadata": {},
   "source": [
    "In this notebok, we benchmark the runtime of STEMNET's `runSTEMNET` function. We supply the terminal\n",
    "clusters by from CellRank."
   ]
  },
  {
   "cell_type": "markdown",
   "metadata": {},
   "source": [
    "# Preliminaries"
   ]
  },
  {
   "cell_type": "markdown",
   "metadata": {},
   "source": [
    "## Dependency notebooks"
   ]
  },
  {
   "cell_type": "markdown",
   "metadata": {},
   "source": [
    "1. [MK_2020-10-16_gpcca.ipynb](MK_2020-10-16_gpcca.ipynb) - to extract the terminal states"
   ]
  },
  {
   "cell_type": "markdown",
   "metadata": {
    "ExecuteTime": {
     "end_time": "2020-10-16T12:27:23.478179Z",
     "start_time": "2020-10-16T12:27:23.473294Z"
    }
   },
   "source": [
    "## Import packages"
   ]
  },
  {
   "cell_type": "code",
   "execution_count": 1,
   "metadata": {
    "ExecuteTime": {
     "end_time": "2020-10-17T15:59:16.737407Z",
     "start_time": "2020-10-17T15:59:13.432603Z"
    }
   },
   "outputs": [],
   "source": [
    "# import standard packages\n",
    "from pathlib import Path\n",
    "from collections import defaultdict\n",
    "import sys\n",
    "\n",
    "import pandas as pd\n",
    "import pickle\n",
    "\n",
    "import rpy2.robjects as ro\n",
    "from rpy2.robjects import r\n",
    "\n",
    "# import single-cell packages\n",
    "import scanpy as sc\n",
    "import anndata2ri\n",
    "from anndata import AnnData\n",
    "\n",
    "# import utilities\n",
    "import utils.utilities as ul\n",
    "\n",
    "anndata2ri.activate()"
   ]
  },
  {
   "cell_type": "markdown",
   "metadata": {},
   "source": [
    "## Print package versions for reproduciblity"
   ]
  },
  {
   "cell_type": "code",
   "execution_count": 2,
   "metadata": {
    "ExecuteTime": {
     "end_time": "2020-10-17T15:59:28.588030Z",
     "start_time": "2020-10-17T15:59:17.908435Z"
    }
   },
   "outputs": [
    {
     "name": "stderr",
     "output_type": "stream",
     "text": [
      "R[write to console]: Loading required package: R.oo\n",
      "\n",
      "R[write to console]: Loading required package: R.methodsS3\n",
      "\n",
      "R[write to console]: R.methodsS3 v1.8.0 (2020-02-14 07:10:20 UTC) successfully loaded. See ?R.methodsS3 for help.\n",
      "\n",
      "R[write to console]: R.oo v1.23.0 successfully loaded. See ?R.oo for help.\n",
      "\n",
      "R[write to console]: \n",
      "Attaching package: ‘R.oo’\n",
      "\n",
      "\n",
      "R[write to console]: The following object is masked from ‘package:R.methodsS3’:\n",
      "\n",
      "    throw\n",
      "\n",
      "\n",
      "R[write to console]: The following objects are masked from ‘package:methods’:\n",
      "\n",
      "    getClasses, getMethods\n",
      "\n",
      "\n",
      "R[write to console]: The following objects are masked from ‘package:base’:\n",
      "\n",
      "    attach, detach, load, save\n",
      "\n",
      "\n",
      "R[write to console]: R.utils v2.10.1 successfully loaded. See ?R.utils for help.\n",
      "\n",
      "R[write to console]: \n",
      "Attaching package: ‘R.utils’\n",
      "\n",
      "\n",
      "R[write to console]: The following object is masked from ‘package:utils’:\n",
      "\n",
      "    timestamp\n",
      "\n",
      "\n",
      "R[write to console]: The following objects are masked from ‘package:base’:\n",
      "\n",
      "    cat, commandArgs, getOption, inherits, isOpen, nullfile, parse,\n",
      "    warnings\n",
      "\n",
      "\n"
     ]
    },
    {
     "name": "stdout",
     "output_type": "stream",
     "text": [
      "scanpy==1.6.0 anndata==0.7.4 umap==0.4.6 numpy==1.19.2 scipy==1.5.2 pandas==1.1.3 scikit-learn==0.23.2 statsmodels==0.12.0 python-igraph==0.8.2 louvain==0.7.0 leidenalg==0.8.2\n",
      "[1] ‘0.1’\n"
     ]
    }
   ],
   "source": [
    "sc.logging.print_header()\n",
    "_ = r(\"\"\"\n",
    "library(R.utils)\n",
    "library(STEMNET)\n",
    "print(packageVersion(\"STEMNET\"))\n",
    "\"\"\")"
   ]
  },
  {
   "cell_type": "markdown",
   "metadata": {},
   "source": [
    "## Set up paths"
   ]
  },
  {
   "cell_type": "code",
   "execution_count": 3,
   "metadata": {
    "ExecuteTime": {
     "end_time": "2020-10-17T15:59:28.600751Z",
     "start_time": "2020-10-17T15:59:28.596987Z"
    }
   },
   "outputs": [],
   "source": [
    "sys.path.insert(0, \"../../..\")  # this depends on the notebook depth and must be adapted per notebook\n",
    "\n",
    "from paths import DATA_DIR"
   ]
  },
  {
   "cell_type": "markdown",
   "metadata": {},
   "source": [
    "## Load the data"
   ]
  },
  {
   "cell_type": "markdown",
   "metadata": {},
   "source": [
    "Load the preprocessed data (i.e. filtered, normalized)"
   ]
  },
  {
   "cell_type": "code",
   "execution_count": 4,
   "metadata": {
    "ExecuteTime": {
     "end_time": "2020-10-17T16:00:15.333994Z",
     "start_time": "2020-10-17T15:59:28.608015Z"
    }
   },
   "outputs": [],
   "source": [
    "adata = sc.read(DATA_DIR / \"morris_data\" / \"adata_preprocessed.h5ad\")"
   ]
  },
  {
   "cell_type": "markdown",
   "metadata": {},
   "source": [
    "Remove all unnecessary annotations so that anndata2ri is faster during conversion."
   ]
  },
  {
   "cell_type": "code",
   "execution_count": 5,
   "metadata": {
    "ExecuteTime": {
     "end_time": "2020-10-17T16:00:15.462321Z",
     "start_time": "2020-10-17T16:00:15.356512Z"
    }
   },
   "outputs": [
    {
     "data": {
      "text/plain": [
       "AnnData object with n_obs × n_vars = 104679 × 1500"
      ]
     },
     "execution_count": 5,
     "metadata": {},
     "output_type": "execute_result"
    }
   ],
   "source": [
    "obs_names, var_names = adata.obs_names, adata.var_names\n",
    "adata = AnnData(adata.X)\n",
    "adata.obs_names = obs_names\n",
    "adata.var_names = var_names\n",
    "adata"
   ]
  },
  {
   "cell_type": "markdown",
   "metadata": {},
   "source": [
    "## Load the subsets and splits"
   ]
  },
  {
   "cell_type": "code",
   "execution_count": 6,
   "metadata": {
    "ExecuteTime": {
     "end_time": "2020-10-17T16:00:15.976100Z",
     "start_time": "2020-10-17T16:00:15.490575Z"
    }
   },
   "outputs": [
    {
     "data": {
      "text/plain": [
       "[10000, 20000, 30000, 40000, 50000, 60000, 70000, 80000, 90000, 100000]"
      ]
     },
     "execution_count": 6,
     "metadata": {},
     "output_type": "execute_result"
    }
   ],
   "source": [
    "dfs = ul.get_split(DATA_DIR / \"morris_data\" / \"splits\")\n",
    "list(dfs.keys())"
   ]
  },
  {
   "cell_type": "markdown",
   "metadata": {
    "ExecuteTime": {
     "end_time": "2020-10-16T12:32:02.605830Z",
     "start_time": "2020-10-16T12:32:02.602279Z"
    }
   },
   "source": [
    "## Define utility functions"
   ]
  },
  {
   "cell_type": "code",
   "execution_count": 7,
   "metadata": {
    "ExecuteTime": {
     "end_time": "2020-10-17T16:00:16.031950Z",
     "start_time": "2020-10-17T16:00:16.025958Z"
    }
   },
   "outputs": [],
   "source": [
    "def benchmark_stemnet(dfs, path):\n",
    "    res = defaultdict(lambda: defaultdict(lambda: defaultdict(list)))\n",
    "    \n",
    "    with open(path, 'rb') as fin:\n",
    "        data = pickle.load(fin)\n",
    "    \n",
    "    for size, split in dfs.items():\n",
    "        for col in split.columns:\n",
    "            try:\n",
    "                print(f\"Subsetting data to `{size}`, split `{col}`.\")\n",
    "                ixs = split[col].values\n",
    "                bdata = adata[ixs].copy()\n",
    "                \n",
    "                assert bdata.n_obs == size\n",
    "                \n",
    "                # old name: main_states\n",
    "                cluster_annot = data[size][col][\"terminal_states\"]\n",
    "                clusters = cluster_annot.cat.categories\n",
    "                cluster_pop = pd.DataFrame(dict(zip(clusters, [cluster_annot.isin([c]) for c in clusters])))\n",
    "                                \n",
    "                ro.globalenv[\"adata\"] = bdata\n",
    "                ro.globalenv[\"cluster_pop\"] = cluster_pop\n",
    "                \n",
    "                print(\"Running STEMNET\")\n",
    "                \n",
    "                stem_time = r(\"\"\"\n",
    "                    pop <- booleanTable2Character(cluster_pop, other_value=NA)\n",
    "                    expression <- t(as.matrix(adata@assays@data[['X']]))  # cells x gene\n",
    "                    \n",
    "                    runtime  <- withTimeout({{\n",
    "                        start_time <- Sys.time()\n",
    "                        result <- runSTEMNET(expression, pop)\n",
    "                        end_time <- difftime(Sys.time(), start_time, units=\"secs\")\n",
    "                        end_time\n",
    "                        }},\n",
    "                        timeout=60 * 60 * 3,  # 3 hours threshold\n",
    "                        onTimeout=\"silent\"\n",
    "                    )\n",
    "                    runtime\n",
    "                \"\"\")\n",
    "                \n",
    "                res[size][col]['stem_time'] = float(stem_time)\n",
    "                ul.save_results(res, DATA_DIR / \"benchmarking\" / \"runtime_analysis\" / \"stemnet.pickle\")\n",
    "                \n",
    "            except Exception as e:\n",
    "                print(f\"Unable to run `STEMNET` with size `{size}` on split `{col}`. Reason: `{e}`.\")\n",
    "                continue\n",
    "    \n",
    "    return res"
   ]
  },
  {
   "cell_type": "markdown",
   "metadata": {},
   "source": [
    "# Run the benchmarks"
   ]
  },
  {
   "cell_type": "code",
   "execution_count": null,
   "metadata": {},
   "outputs": [],
   "source": [
    "# we provide the terminal state clusters from GPCCA\n",
    "res_stemnet = benchmark_stemnet(dfs, DATA_DIR / \"benchmarking\" / \"runtime_analysis\" / \"gpcca.pickle\")"
   ]
  },
  {
   "cell_type": "markdown",
   "metadata": {},
   "source": [
    "## Save the results"
   ]
  },
  {
   "cell_type": "code",
   "execution_count": 10,
   "metadata": {
    "ExecuteTime": {
     "end_time": "2020-07-15T05:19:39.300215Z",
     "start_time": "2020-07-15T05:19:39.285378Z"
    }
   },
   "outputs": [],
   "source": [
    "ul.save_results(res_stemnet, DATA_DIR / \"benchmarking\" / \"runtime_analysis\" / \"stemnet.pickle\")"
   ]
  }
 ],
 "metadata": {
  "kernelspec": {
   "display_name": "cellrank",
   "language": "python",
   "name": "cellrank"
  },
  "language_info": {
   "codemirror_mode": {
    "name": "ipython",
    "version": 3
   },
   "file_extension": ".py",
   "mimetype": "text/x-python",
   "name": "python",
   "nbconvert_exporter": "python",
   "pygments_lexer": "ipython3",
   "version": "3.8.10"
  },
  "toc": {
   "base_numbering": 1,
   "nav_menu": {},
   "number_sections": true,
   "sideBar": true,
   "skip_h1_title": false,
   "title_cell": "Table of Contents",
   "title_sidebar": "Contents",
   "toc_cell": false,
   "toc_position": {},
   "toc_section_display": true,
   "toc_window_display": false
  },
  "varInspector": {
   "cols": {
    "lenName": 16,
    "lenType": 16,
    "lenVar": 40
   },
   "kernels_config": {
    "python": {
     "delete_cmd_postfix": "",
     "delete_cmd_prefix": "del ",
     "library": "var_list.py",
     "varRefreshCmd": "print(var_dic_list())"
    },
    "r": {
     "delete_cmd_postfix": ") ",
     "delete_cmd_prefix": "rm(",
     "library": "var_list.r",
     "varRefreshCmd": "cat(var_dic_list()) "
    }
   },
   "types_to_exclude": [
    "module",
    "function",
    "builtin_function_or_method",
    "instance",
    "_Feature"
   ],
   "window_display": false
  }
 },
 "nbformat": 4,
 "nbformat_minor": 4
}
